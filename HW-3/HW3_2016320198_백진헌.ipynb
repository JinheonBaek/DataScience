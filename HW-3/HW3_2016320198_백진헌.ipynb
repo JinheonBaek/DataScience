{
 "cells": [
  {
   "cell_type": "markdown",
   "metadata": {},
   "source": [
    "# HW3 - Data Analysis & Make Prediction Models\n",
    "\n",
    "#### Data Science in Korea University, Prof. Jaewoo Kang\n",
    "#### COSE471, Spring 2018\n",
    "#### Due : 6/12 (Tues)  11:59 AM [Before Class Start]"
   ]
  },
  {
   "cell_type": "markdown",
   "metadata": {},
   "source": [
    "## Notice Class schedule\n",
    "<table>\n",
    "  <tr>\n",
    "    <th>Date</th>\n",
    "    <th>Desc.</th>\n",
    "  <tr>\n",
    "    <td>5/29</td>\n",
    "    <td>MID-TERM EXAM & HW#3 Start Date</td>\n",
    "  </tr>\n",
    "  <tr>\n",
    "    <td>5/31</td>\n",
    "    <td>HW#2 Late Hand-In Due Date</td>\n",
    "  </tr>\n",
    "  <tr>\n",
    "    <td>6/12</td>\n",
    "    <td>HW#3 Due Date & HW#4(Project) Start Date</td>\n",
    "  </tr>\n",
    "  <tr>\n",
    "    <td>6/19</td>\n",
    "    <td>HW#3 Late Hand-In Due Date</td>\n",
    "  </tr>\n",
    "  <tr>\n",
    "    <td>6/21</td>\n",
    "    <td>FINAL EXAM(NOT FIXED)</td>\n",
    "  </tr>\n",
    "  <tr>\n",
    "    <td>6/26</td>\n",
    "    <td>HW#4(Project) Due Date(NO LATE HAND-IN)</td>\n",
    "  </tr>\n",
    "</table>"
   ]
  },
  {
   "cell_type": "markdown",
   "metadata": {},
   "source": [
    "## Assignment Credit\n",
    "\n",
    "### Your assignments are 30% of the total score. The scores for each assignment are as follows.\n",
    "- __HW#1: 5%__\n",
    "- __HW#2: 7%__\n",
    "- __HW#3: 8%__\n",
    "- __HW#4(Project): 10%__"
   ]
  },
  {
   "cell_type": "markdown",
   "metadata": {},
   "source": [
    "## Python Assingment HW3 Guide\n",
    "- You need to fill out your code in ###YOUR CODE HERE### or #TODO.\n",
    "- The code results should be the same as the results displayed below the code or the format we gave in problem description.\n",
    "- When solving descriptive problems, both __Korean and English are available.__\n",
    "- The some libraries are already imported below. __But you should import more.__\n",
    "    - If you don't have some libraries, install it with pip or conda command. [Google will help you]"
   ]
  },
  {
   "cell_type": "markdown",
   "metadata": {},
   "source": [
    "## Problem1. Scikit-learn\n",
    "- Scikit-learn is the most common python library in machine learning.\n",
    "- Let's port our work from matplotlib to scikit-learn.\n",
    "- However, not all plots will be handled. We will focus on the most recent data, 2000-2015.\n",
    "\n",
    "<b>URL:</b> http://scikit-learn.org/\n",
    "<br/><b>Install guide:</b> http://scikit-learn.org/stable/install.html"
   ]
  },
  {
   "cell_type": "code",
   "execution_count": 1,
   "metadata": {
    "collapsed": true
   },
   "outputs": [],
   "source": [
    "import pandas as pd\n",
    "import numpy as np\n",
    "import matplotlib.pyplot as plt\n",
    "%matplotlib inline\n",
    "\n",
    "from sklearn.linear_model import LinearRegression\n",
    "from sklearn.metrics import mean_squared_error"
   ]
  },
  {
   "cell_type": "markdown",
   "metadata": {},
   "source": [
    "### Problem 1-1 Applying the linear regression model of scikit-learn to our data\n",
    "- Information about the various model api is available at the following url:<br/>&nbsp;&nbsp;&nbsp;&nbsp;&nbsp;&nbsp;http://scikit-learn.org/stable/modules/classes.html\n",
    "- Apply regression model for 2000-2015 data only.\n",
    "- You should use same datasets in HW#2[infant mortality rate and GDP]\n",
    "- xData : GDP per capita\n",
    "- yData : Infant morality rate \n",
    "- Please print __MSE__ of implemented model."
   ]
  },
  {
   "cell_type": "code",
   "execution_count": 2,
   "metadata": {
    "collapsed": true
   },
   "outputs": [],
   "source": [
    "#load data and filtering data (2000-2015) you can use HW#2 preprocessing code\n",
    "\n",
    "###YOUR CODE HERE###"
   ]
  },
  {
   "cell_type": "code",
   "execution_count": 127,
   "metadata": {},
   "outputs": [],
   "source": [
    "## Infant mortality\n",
    "IM = pd.read_csv('InfantMortalityByTab.txt',sep='\\t',index_col=0)"
   ]
  },
  {
   "cell_type": "code",
   "execution_count": 128,
   "metadata": {},
   "outputs": [],
   "source": [
    "columnNames = [str(x) + '-' + str(x+5) for x in range(2000, 2015, 5)]\n",
    "IM = IM[columnNames]"
   ]
  },
  {
   "cell_type": "code",
   "execution_count": 129,
   "metadata": {},
   "outputs": [
    {
     "data": {
      "text/html": [
       "<div>\n",
       "<style scoped>\n",
       "    .dataframe tbody tr th:only-of-type {\n",
       "        vertical-align: middle;\n",
       "    }\n",
       "\n",
       "    .dataframe tbody tr th {\n",
       "        vertical-align: top;\n",
       "    }\n",
       "\n",
       "    .dataframe thead th {\n",
       "        text-align: right;\n",
       "    }\n",
       "</style>\n",
       "<table border=\"1\" class=\"dataframe\">\n",
       "  <thead>\n",
       "    <tr style=\"text-align: right;\">\n",
       "      <th></th>\n",
       "      <th>2000-2005</th>\n",
       "      <th>2005-2010</th>\n",
       "      <th>2010-2015</th>\n",
       "    </tr>\n",
       "  </thead>\n",
       "  <tbody>\n",
       "    <tr>\n",
       "      <th>Afghanistan</th>\n",
       "      <td>89.53</td>\n",
       "      <td>79.51</td>\n",
       "      <td>71.12</td>\n",
       "    </tr>\n",
       "    <tr>\n",
       "      <th>Albania</th>\n",
       "      <td>20.25</td>\n",
       "      <td>16.11</td>\n",
       "      <td>14.42</td>\n",
       "    </tr>\n",
       "    <tr>\n",
       "      <th>Algeria</th>\n",
       "      <td>37.45</td>\n",
       "      <td>34.18</td>\n",
       "      <td>30.28</td>\n",
       "    </tr>\n",
       "    <tr>\n",
       "      <th>Angola</th>\n",
       "      <td>116.05</td>\n",
       "      <td>104.35</td>\n",
       "      <td>96.22</td>\n",
       "    </tr>\n",
       "    <tr>\n",
       "      <th>Argentina</th>\n",
       "      <td>15.04</td>\n",
       "      <td>14.61</td>\n",
       "      <td>13.69</td>\n",
       "    </tr>\n",
       "  </tbody>\n",
       "</table>\n",
       "</div>"
      ],
      "text/plain": [
       "             2000-2005  2005-2010  2010-2015\n",
       "Afghanistan      89.53      79.51      71.12\n",
       "Albania          20.25      16.11      14.42\n",
       "Algeria          37.45      34.18      30.28\n",
       "Angola          116.05     104.35      96.22\n",
       "Argentina        15.04      14.61      13.69"
      ]
     },
     "execution_count": 129,
     "metadata": {},
     "output_type": "execute_result"
    }
   ],
   "source": [
    "IM.head()"
   ]
  },
  {
   "cell_type": "code",
   "execution_count": 130,
   "metadata": {
    "collapsed": true
   },
   "outputs": [],
   "source": [
    "## GDP\n",
    "GDP = pd.read_csv('GDPperCapByTab.txt',sep='\\t',index_col=0) "
   ]
  },
  {
   "cell_type": "code",
   "execution_count": 131,
   "metadata": {},
   "outputs": [],
   "source": [
    "drop_columns = [str(i) for i in range(1980, 2000)]\n",
    "drop_columns.extend(['Subject Descriptor', 'Units', 'Scale', 'Country/Series-specific Notes', 'Estimates Start After'])\n",
    "GDP.drop(columns = drop_columns, inplace = True)\n",
    "GDP.fillna(np.nan, inplace = True)"
   ]
  },
  {
   "cell_type": "code",
   "execution_count": 132,
   "metadata": {},
   "outputs": [
    {
     "data": {
      "text/html": [
       "<div>\n",
       "<style scoped>\n",
       "    .dataframe tbody tr th:only-of-type {\n",
       "        vertical-align: middle;\n",
       "    }\n",
       "\n",
       "    .dataframe tbody tr th {\n",
       "        vertical-align: top;\n",
       "    }\n",
       "\n",
       "    .dataframe thead th {\n",
       "        text-align: right;\n",
       "    }\n",
       "</style>\n",
       "<table border=\"1\" class=\"dataframe\">\n",
       "  <thead>\n",
       "    <tr style=\"text-align: right;\">\n",
       "      <th></th>\n",
       "      <th>2000</th>\n",
       "      <th>2001</th>\n",
       "      <th>2002</th>\n",
       "      <th>2003</th>\n",
       "      <th>2004</th>\n",
       "      <th>2005</th>\n",
       "      <th>2006</th>\n",
       "      <th>2007</th>\n",
       "      <th>2008</th>\n",
       "      <th>2009</th>\n",
       "      <th>2010</th>\n",
       "      <th>2011</th>\n",
       "      <th>2012</th>\n",
       "      <th>2013</th>\n",
       "      <th>2014</th>\n",
       "      <th>2015</th>\n",
       "    </tr>\n",
       "    <tr>\n",
       "      <th>Country</th>\n",
       "      <th></th>\n",
       "      <th></th>\n",
       "      <th></th>\n",
       "      <th></th>\n",
       "      <th></th>\n",
       "      <th></th>\n",
       "      <th></th>\n",
       "      <th></th>\n",
       "      <th></th>\n",
       "      <th></th>\n",
       "      <th></th>\n",
       "      <th></th>\n",
       "      <th></th>\n",
       "      <th></th>\n",
       "      <th></th>\n",
       "      <th></th>\n",
       "    </tr>\n",
       "  </thead>\n",
       "  <tbody>\n",
       "    <tr>\n",
       "      <th>Afghanistan</th>\n",
       "      <td>NaN</td>\n",
       "      <td>NaN</td>\n",
       "      <td>196.683</td>\n",
       "      <td>195.27</td>\n",
       "      <td>214.23</td>\n",
       "      <td>248.049</td>\n",
       "      <td>270.189</td>\n",
       "      <td>324.705</td>\n",
       "      <td>380.91</td>\n",
       "      <td>435.472</td>\n",
       "      <td>539.667</td>\n",
       "      <td>614.661</td>\n",
       "      <td>680.5</td>\n",
       "      <td>660.221</td>\n",
       "      <td>650.663</td>\n",
       "      <td>615.091</td>\n",
       "    </tr>\n",
       "    <tr>\n",
       "      <th>Albania</th>\n",
       "      <td>1,127.64</td>\n",
       "      <td>1,283.57</td>\n",
       "      <td>1,425.13</td>\n",
       "      <td>1,846.12</td>\n",
       "      <td>2,373.58</td>\n",
       "      <td>2,673.73</td>\n",
       "      <td>2,975.62</td>\n",
       "      <td>3,594.10</td>\n",
       "      <td>4,377.04</td>\n",
       "      <td>4,130.93</td>\n",
       "      <td>4,098.13</td>\n",
       "      <td>4,439.56</td>\n",
       "      <td>4,249.04</td>\n",
       "      <td>4,413.28</td>\n",
       "      <td>4,574.80</td>\n",
       "      <td>3,946.00</td>\n",
       "    </tr>\n",
       "    <tr>\n",
       "      <th>Algeria</th>\n",
       "      <td>1,794.70</td>\n",
       "      <td>1,768.58</td>\n",
       "      <td>1,806.86</td>\n",
       "      <td>2,128.39</td>\n",
       "      <td>2,636.31</td>\n",
       "      <td>3,141.03</td>\n",
       "      <td>3,508.96</td>\n",
       "      <td>3,986.56</td>\n",
       "      <td>4,943.50</td>\n",
       "      <td>3,886.06</td>\n",
       "      <td>4,480.72</td>\n",
       "      <td>5,430.57</td>\n",
       "      <td>5,574.20</td>\n",
       "      <td>5,475.71</td>\n",
       "      <td>5,458.88</td>\n",
       "      <td>4,174.82</td>\n",
       "    </tr>\n",
       "    <tr>\n",
       "      <th>Angola</th>\n",
       "      <td>535.473</td>\n",
       "      <td>508.857</td>\n",
       "      <td>690.923</td>\n",
       "      <td>761.596</td>\n",
       "      <td>1,023.52</td>\n",
       "      <td>1,428.46</td>\n",
       "      <td>2,052.72</td>\n",
       "      <td>2,882.80</td>\n",
       "      <td>3,897.51</td>\n",
       "      <td>3,393.55</td>\n",
       "      <td>3,599.27</td>\n",
       "      <td>4,411.58</td>\n",
       "      <td>4,744.88</td>\n",
       "      <td>4,988.92</td>\n",
       "      <td>4,915.92</td>\n",
       "      <td>3,876.20</td>\n",
       "    </tr>\n",
       "    <tr>\n",
       "      <th>Antigua and Barbuda</th>\n",
       "      <td>10,368.64</td>\n",
       "      <td>10,063.80</td>\n",
       "      <td>10,326.85</td>\n",
       "      <td>10,693.95</td>\n",
       "      <td>11,315.24</td>\n",
       "      <td>12,428.74</td>\n",
       "      <td>13,995.04</td>\n",
       "      <td>15,725.92</td>\n",
       "      <td>16,259.67</td>\n",
       "      <td>14,403.92</td>\n",
       "      <td>13,413.49</td>\n",
       "      <td>13,205.07</td>\n",
       "      <td>13,929.37</td>\n",
       "      <td>13,733.96</td>\n",
       "      <td>13,818.57</td>\n",
       "      <td>14,100.43</td>\n",
       "    </tr>\n",
       "  </tbody>\n",
       "</table>\n",
       "</div>"
      ],
      "text/plain": [
       "                          2000       2001       2002       2003       2004  \\\n",
       "Country                                                                      \n",
       "Afghanistan                NaN        NaN    196.683     195.27     214.23   \n",
       "Albania               1,127.64   1,283.57   1,425.13   1,846.12   2,373.58   \n",
       "Algeria               1,794.70   1,768.58   1,806.86   2,128.39   2,636.31   \n",
       "Angola                 535.473    508.857    690.923    761.596   1,023.52   \n",
       "Antigua and Barbuda  10,368.64  10,063.80  10,326.85  10,693.95  11,315.24   \n",
       "\n",
       "                          2005       2006       2007       2008       2009  \\\n",
       "Country                                                                      \n",
       "Afghanistan            248.049    270.189    324.705     380.91    435.472   \n",
       "Albania               2,673.73   2,975.62   3,594.10   4,377.04   4,130.93   \n",
       "Algeria               3,141.03   3,508.96   3,986.56   4,943.50   3,886.06   \n",
       "Angola                1,428.46   2,052.72   2,882.80   3,897.51   3,393.55   \n",
       "Antigua and Barbuda  12,428.74  13,995.04  15,725.92  16,259.67  14,403.92   \n",
       "\n",
       "                          2010       2011       2012       2013       2014  \\\n",
       "Country                                                                      \n",
       "Afghanistan            539.667    614.661      680.5    660.221    650.663   \n",
       "Albania               4,098.13   4,439.56   4,249.04   4,413.28   4,574.80   \n",
       "Algeria               4,480.72   5,430.57   5,574.20   5,475.71   5,458.88   \n",
       "Angola                3,599.27   4,411.58   4,744.88   4,988.92   4,915.92   \n",
       "Antigua and Barbuda  13,413.49  13,205.07  13,929.37  13,733.96  13,818.57   \n",
       "\n",
       "                          2015  \n",
       "Country                         \n",
       "Afghanistan            615.091  \n",
       "Albania               3,946.00  \n",
       "Algeria               4,174.82  \n",
       "Angola                3,876.20  \n",
       "Antigua and Barbuda  14,100.43  "
      ]
     },
     "execution_count": 132,
     "metadata": {},
     "output_type": "execute_result"
    }
   ],
   "source": [
    "GDP.head()"
   ]
  },
  {
   "cell_type": "code",
   "execution_count": 133,
   "metadata": {
    "collapsed": true
   },
   "outputs": [],
   "source": [
    "drop_index = []\n",
    "\n",
    "#TODO: modify data type as float type\n",
    "for columnNum in [str(num) for num in range(2000, 2016)]:\n",
    "    for i in range(len(GDP[columnNum])):\n",
    "        if isinstance(GDP[columnNum][i], str):\n",
    "            GDP[columnNum][i] = np.float(GDP[columnNum][i].replace(',', ''))\n",
    "        else:\n",
    "            drop_index.append(GDP.index[i])\n",
    "\n",
    "## Delete Nan rows\n",
    "drop_index = list(set(drop_index))\n",
    "GDP.drop(drop_index, inplace = True)"
   ]
  },
  {
   "cell_type": "code",
   "execution_count": 134,
   "metadata": {},
   "outputs": [
    {
     "data": {
      "text/html": [
       "<div>\n",
       "<style scoped>\n",
       "    .dataframe tbody tr th:only-of-type {\n",
       "        vertical-align: middle;\n",
       "    }\n",
       "\n",
       "    .dataframe tbody tr th {\n",
       "        vertical-align: top;\n",
       "    }\n",
       "\n",
       "    .dataframe thead th {\n",
       "        text-align: right;\n",
       "    }\n",
       "</style>\n",
       "<table border=\"1\" class=\"dataframe\">\n",
       "  <thead>\n",
       "    <tr style=\"text-align: right;\">\n",
       "      <th></th>\n",
       "      <th>2000</th>\n",
       "      <th>2001</th>\n",
       "      <th>2002</th>\n",
       "      <th>2003</th>\n",
       "      <th>2004</th>\n",
       "      <th>2005</th>\n",
       "      <th>2006</th>\n",
       "      <th>2007</th>\n",
       "      <th>2008</th>\n",
       "      <th>2009</th>\n",
       "      <th>2010</th>\n",
       "      <th>2011</th>\n",
       "      <th>2012</th>\n",
       "      <th>2013</th>\n",
       "      <th>2014</th>\n",
       "      <th>2015</th>\n",
       "    </tr>\n",
       "    <tr>\n",
       "      <th>Country</th>\n",
       "      <th></th>\n",
       "      <th></th>\n",
       "      <th></th>\n",
       "      <th></th>\n",
       "      <th></th>\n",
       "      <th></th>\n",
       "      <th></th>\n",
       "      <th></th>\n",
       "      <th></th>\n",
       "      <th></th>\n",
       "      <th></th>\n",
       "      <th></th>\n",
       "      <th></th>\n",
       "      <th></th>\n",
       "      <th></th>\n",
       "      <th></th>\n",
       "    </tr>\n",
       "  </thead>\n",
       "  <tbody>\n",
       "    <tr>\n",
       "      <th>Albania</th>\n",
       "      <td>1127.64</td>\n",
       "      <td>1283.57</td>\n",
       "      <td>1425.13</td>\n",
       "      <td>1846.12</td>\n",
       "      <td>2373.58</td>\n",
       "      <td>2673.73</td>\n",
       "      <td>2975.62</td>\n",
       "      <td>3594.1</td>\n",
       "      <td>4377.04</td>\n",
       "      <td>4130.93</td>\n",
       "      <td>4098.13</td>\n",
       "      <td>4439.56</td>\n",
       "      <td>4249.04</td>\n",
       "      <td>4413.28</td>\n",
       "      <td>4574.8</td>\n",
       "      <td>3946</td>\n",
       "    </tr>\n",
       "    <tr>\n",
       "      <th>Algeria</th>\n",
       "      <td>1794.7</td>\n",
       "      <td>1768.58</td>\n",
       "      <td>1806.86</td>\n",
       "      <td>2128.39</td>\n",
       "      <td>2636.31</td>\n",
       "      <td>3141.03</td>\n",
       "      <td>3508.96</td>\n",
       "      <td>3986.56</td>\n",
       "      <td>4943.5</td>\n",
       "      <td>3886.06</td>\n",
       "      <td>4480.72</td>\n",
       "      <td>5430.57</td>\n",
       "      <td>5574.2</td>\n",
       "      <td>5475.71</td>\n",
       "      <td>5458.88</td>\n",
       "      <td>4174.82</td>\n",
       "    </tr>\n",
       "    <tr>\n",
       "      <th>Angola</th>\n",
       "      <td>535.473</td>\n",
       "      <td>508.857</td>\n",
       "      <td>690.923</td>\n",
       "      <td>761.596</td>\n",
       "      <td>1023.52</td>\n",
       "      <td>1428.46</td>\n",
       "      <td>2052.72</td>\n",
       "      <td>2882.8</td>\n",
       "      <td>3897.51</td>\n",
       "      <td>3393.55</td>\n",
       "      <td>3599.27</td>\n",
       "      <td>4411.58</td>\n",
       "      <td>4744.88</td>\n",
       "      <td>4988.92</td>\n",
       "      <td>4915.92</td>\n",
       "      <td>3876.2</td>\n",
       "    </tr>\n",
       "    <tr>\n",
       "      <th>Antigua and Barbuda</th>\n",
       "      <td>10368.6</td>\n",
       "      <td>10063.8</td>\n",
       "      <td>10326.9</td>\n",
       "      <td>10694</td>\n",
       "      <td>11315.2</td>\n",
       "      <td>12428.7</td>\n",
       "      <td>13995</td>\n",
       "      <td>15725.9</td>\n",
       "      <td>16259.7</td>\n",
       "      <td>14403.9</td>\n",
       "      <td>13413.5</td>\n",
       "      <td>13205.1</td>\n",
       "      <td>13929.4</td>\n",
       "      <td>13734</td>\n",
       "      <td>13818.6</td>\n",
       "      <td>14100.4</td>\n",
       "    </tr>\n",
       "    <tr>\n",
       "      <th>Argentina</th>\n",
       "      <td>8386.59</td>\n",
       "      <td>7851.66</td>\n",
       "      <td>2898.29</td>\n",
       "      <td>3648.06</td>\n",
       "      <td>4314.4</td>\n",
       "      <td>5163.55</td>\n",
       "      <td>5976.08</td>\n",
       "      <td>7315.73</td>\n",
       "      <td>9146.79</td>\n",
       "      <td>8337.81</td>\n",
       "      <td>10413</td>\n",
       "      <td>12787.8</td>\n",
       "      <td>13889.8</td>\n",
       "      <td>14488.8</td>\n",
       "      <td>13208.8</td>\n",
       "      <td>14616.7</td>\n",
       "    </tr>\n",
       "  </tbody>\n",
       "</table>\n",
       "</div>"
      ],
      "text/plain": [
       "                        2000     2001     2002     2003     2004     2005  \\\n",
       "Country                                                                     \n",
       "Albania              1127.64  1283.57  1425.13  1846.12  2373.58  2673.73   \n",
       "Algeria               1794.7  1768.58  1806.86  2128.39  2636.31  3141.03   \n",
       "Angola               535.473  508.857  690.923  761.596  1023.52  1428.46   \n",
       "Antigua and Barbuda  10368.6  10063.8  10326.9    10694  11315.2  12428.7   \n",
       "Argentina            8386.59  7851.66  2898.29  3648.06   4314.4  5163.55   \n",
       "\n",
       "                        2006     2007     2008     2009     2010     2011  \\\n",
       "Country                                                                     \n",
       "Albania              2975.62   3594.1  4377.04  4130.93  4098.13  4439.56   \n",
       "Algeria              3508.96  3986.56   4943.5  3886.06  4480.72  5430.57   \n",
       "Angola               2052.72   2882.8  3897.51  3393.55  3599.27  4411.58   \n",
       "Antigua and Barbuda    13995  15725.9  16259.7  14403.9  13413.5  13205.1   \n",
       "Argentina            5976.08  7315.73  9146.79  8337.81    10413  12787.8   \n",
       "\n",
       "                        2012     2013     2014     2015  \n",
       "Country                                                  \n",
       "Albania              4249.04  4413.28   4574.8     3946  \n",
       "Algeria               5574.2  5475.71  5458.88  4174.82  \n",
       "Angola               4744.88  4988.92  4915.92   3876.2  \n",
       "Antigua and Barbuda  13929.4    13734  13818.6  14100.4  \n",
       "Argentina            13889.8  14488.8  13208.8  14616.7  "
      ]
     },
     "execution_count": 134,
     "metadata": {},
     "output_type": "execute_result"
    }
   ],
   "source": [
    "GDP.head()"
   ]
  },
  {
   "cell_type": "code",
   "execution_count": 135,
   "metadata": {
    "collapsed": true
   },
   "outputs": [],
   "source": [
    "## Data -> Int type\n",
    "GDP = GDP.astype('int64')\n",
    "\n",
    "## ColumnNums\n",
    "columnNums = [\n",
    "['2000', '2001', '2002', '2003', '2004', '2005'],\n",
    "['2005', '2006', '2007', '2008', '2009', '2010'],\n",
    "['2010', '2011', '2012', '2013', '2014', '2015']\n",
    "]\n",
    "\n",
    "## Get Median value by country of each 5 years\n",
    "for columnNum in columnNums:\n",
    "    GDP[str(columnNum[0]) + '-' + str(columnNum[-1])] = GDP[columnNum].median(axis = 'columns')\n",
    "    GDP.drop(columnNum[:5], 1, inplace = True)\n",
    "GDP.drop('2015', 1, inplace = True)\n",
    "\n",
    "## Data -> Int type\n",
    "GDP = GDP.astype('int64')"
   ]
  },
  {
   "cell_type": "code",
   "execution_count": 136,
   "metadata": {},
   "outputs": [
    {
     "data": {
      "text/html": [
       "<div>\n",
       "<style scoped>\n",
       "    .dataframe tbody tr th:only-of-type {\n",
       "        vertical-align: middle;\n",
       "    }\n",
       "\n",
       "    .dataframe tbody tr th {\n",
       "        vertical-align: top;\n",
       "    }\n",
       "\n",
       "    .dataframe thead th {\n",
       "        text-align: right;\n",
       "    }\n",
       "</style>\n",
       "<table border=\"1\" class=\"dataframe\">\n",
       "  <thead>\n",
       "    <tr style=\"text-align: right;\">\n",
       "      <th></th>\n",
       "      <th>2000-2005</th>\n",
       "      <th>2005-2010</th>\n",
       "      <th>2010-2015</th>\n",
       "    </tr>\n",
       "    <tr>\n",
       "      <th>Country</th>\n",
       "      <th></th>\n",
       "      <th></th>\n",
       "      <th></th>\n",
       "    </tr>\n",
       "  </thead>\n",
       "  <tbody>\n",
       "    <tr>\n",
       "      <th>Albania</th>\n",
       "      <td>1635</td>\n",
       "      <td>3846</td>\n",
       "      <td>4331</td>\n",
       "    </tr>\n",
       "    <tr>\n",
       "      <th>Algeria</th>\n",
       "      <td>1967</td>\n",
       "      <td>3936</td>\n",
       "      <td>5444</td>\n",
       "    </tr>\n",
       "    <tr>\n",
       "      <th>Angola</th>\n",
       "      <td>725</td>\n",
       "      <td>3137</td>\n",
       "      <td>4577</td>\n",
       "    </tr>\n",
       "    <tr>\n",
       "      <th>Antigua and Barbuda</th>\n",
       "      <td>10530</td>\n",
       "      <td>14199</td>\n",
       "      <td>13775</td>\n",
       "    </tr>\n",
       "    <tr>\n",
       "      <th>Argentina</th>\n",
       "      <td>4738</td>\n",
       "      <td>7826</td>\n",
       "      <td>13548</td>\n",
       "    </tr>\n",
       "  </tbody>\n",
       "</table>\n",
       "</div>"
      ],
      "text/plain": [
       "                     2000-2005  2005-2010  2010-2015\n",
       "Country                                             \n",
       "Albania                   1635       3846       4331\n",
       "Algeria                   1967       3936       5444\n",
       "Angola                     725       3137       4577\n",
       "Antigua and Barbuda      10530      14199      13775\n",
       "Argentina                 4738       7826      13548"
      ]
     },
     "execution_count": 136,
     "metadata": {},
     "output_type": "execute_result"
    }
   ],
   "source": [
    "GDP.head()"
   ]
  },
  {
   "cell_type": "code",
   "execution_count": 137,
   "metadata": {},
   "outputs": [
    {
     "data": {
      "text/plain": [
       "((183, 3), (175, 3))"
      ]
     },
     "execution_count": 137,
     "metadata": {},
     "output_type": "execute_result"
    }
   ],
   "source": [
    "GDP.shape, IM.shape"
   ]
  },
  {
   "cell_type": "code",
   "execution_count": 138,
   "metadata": {
    "collapsed": true
   },
   "outputs": [],
   "source": [
    "for country in IM.index:\n",
    "    if country not in GDP.index:\n",
    "        IM.drop(country, inplace = True)\n",
    "\n",
    "for country in GDP.index:\n",
    "    if country not in IM.index:\n",
    "        GDP.drop(country, inplace = True)"
   ]
  },
  {
   "cell_type": "code",
   "execution_count": 139,
   "metadata": {},
   "outputs": [
    {
     "data": {
      "text/plain": [
       "((151, 3), (151, 3))"
      ]
     },
     "execution_count": 139,
     "metadata": {},
     "output_type": "execute_result"
    }
   ],
   "source": [
    "GDP.shape, IM.shape"
   ]
  },
  {
   "cell_type": "code",
   "execution_count": 146,
   "metadata": {},
   "outputs": [],
   "source": [
    "GDP = pd.DataFrame(data = GDP.values.reshape(453))\n",
    "IM = pd.DataFrame(data = IM.values.reshape(453))"
   ]
  },
  {
   "cell_type": "code",
   "execution_count": 147,
   "metadata": {},
   "outputs": [
    {
     "data": {
      "text/html": [
       "<div>\n",
       "<style scoped>\n",
       "    .dataframe tbody tr th:only-of-type {\n",
       "        vertical-align: middle;\n",
       "    }\n",
       "\n",
       "    .dataframe tbody tr th {\n",
       "        vertical-align: top;\n",
       "    }\n",
       "\n",
       "    .dataframe thead th {\n",
       "        text-align: right;\n",
       "    }\n",
       "</style>\n",
       "<table border=\"1\" class=\"dataframe\">\n",
       "  <thead>\n",
       "    <tr style=\"text-align: right;\">\n",
       "      <th></th>\n",
       "      <th>0</th>\n",
       "    </tr>\n",
       "  </thead>\n",
       "  <tbody>\n",
       "    <tr>\n",
       "      <th>0</th>\n",
       "      <td>1635</td>\n",
       "    </tr>\n",
       "    <tr>\n",
       "      <th>1</th>\n",
       "      <td>3846</td>\n",
       "    </tr>\n",
       "    <tr>\n",
       "      <th>2</th>\n",
       "      <td>4331</td>\n",
       "    </tr>\n",
       "    <tr>\n",
       "      <th>3</th>\n",
       "      <td>1967</td>\n",
       "    </tr>\n",
       "    <tr>\n",
       "      <th>4</th>\n",
       "      <td>3936</td>\n",
       "    </tr>\n",
       "  </tbody>\n",
       "</table>\n",
       "</div>"
      ],
      "text/plain": [
       "      0\n",
       "0  1635\n",
       "1  3846\n",
       "2  4331\n",
       "3  1967\n",
       "4  3936"
      ]
     },
     "execution_count": 147,
     "metadata": {},
     "output_type": "execute_result"
    }
   ],
   "source": [
    "GDP.head()"
   ]
  },
  {
   "cell_type": "code",
   "execution_count": 149,
   "metadata": {},
   "outputs": [
    {
     "name": "stdout",
     "output_type": "stream",
     "text": [
      "MSE - scikit learn linear regression:  615.0368045357042\n"
     ]
    }
   ],
   "source": [
    "lr = LinearRegression()\n",
    "\n",
    "xData = []\n",
    "yData = []\n",
    "\n",
    "#TODO\n",
    "xData = GDP\n",
    "yData = IM\n",
    "\n",
    "lr.fit(xData, yData)\n",
    "print (\"MSE - scikit learn linear regression: \", mean_squared_error(lr.predict(xData), yData))"
   ]
  },
  {
   "cell_type": "markdown",
   "metadata": {},
   "source": [
    "### Problem 1-2 Expanded to polynomial regression\n",
    "- Let's look at the performance change by changing the degree in 0-9.\n",
    "- Normalization should also be followed.\n",
    "\n",
    "*hint: You can use an additional API to implement the polynomial regression model.*"
   ]
  },
  {
   "cell_type": "code",
   "execution_count": 151,
   "metadata": {},
   "outputs": [
    {
     "name": "stdout",
     "output_type": "stream",
     "text": [
      "MSE - poly-linear regression; degree= 0 :  846.175935916066\n",
      "MSE - poly-linear regression; degree= 1 :  615.0368045357042\n",
      "MSE - poly-linear regression; degree= 2 :  515.9602599263789\n",
      "MSE - poly-linear regression; degree= 3 :  435.1456122667867\n",
      "MSE - poly-linear regression; degree= 4 :  390.86103422946695\n",
      "MSE - poly-linear regression; degree= 5 :  355.6943358068612\n",
      "MSE - poly-linear regression; degree= 6 :  334.2743837437295\n",
      "MSE - poly-linear regression; degree= 7 :  321.1904418697901\n",
      "MSE - poly-linear regression; degree= 8 :  312.60121805697514\n",
      "MSE - poly-linear regression; degree= 9 :  306.9649374573279\n"
     ]
    }
   ],
   "source": [
    "#TODO: import api(s) to implement the polynomial regression model\n",
    "from sklearn import linear_model\n",
    "from sklearn.preprocessing import PolynomialFeatures\n",
    "from sklearn.pipeline import make_pipeline\n",
    "\n",
    "for deg in range(10):\n",
    "    PolynomialRegression = make_pipeline(PolynomialFeatures(deg), linear_model.Ridge())\n",
    "\n",
    "    plr = PolynomialRegression.fit(xData, yData)\n",
    "    print (\"MSE - poly-linear regression; degree=\", deg,\": \", mean_squared_error(plr.predict(xData), yData))"
   ]
  },
  {
   "cell_type": "markdown",
   "metadata": {},
   "source": [
    "### Problem 1-3 The change in performance according to the degree can be confirmed. Is performance improvement reliable? Describe the problem of current method."
   ]
  },
  {
   "cell_type": "markdown",
   "metadata": {},
   "source": [
    "### YOUR ANSWER HERE ###\n",
    "\n"
   ]
  },
  {
   "cell_type": "markdown",
   "metadata": {},
   "source": [
    "##### Overfitting\n",
    "Model 의 Capacity 를 올려 복잡한 Model 을 만들면 해당 모델이 Overfitting 에 취약해질 위험이 있다. <br/>\n",
    "또한 위에서 적용한 학습 방법은 Train, Test Data Set 을 구분하여 내 Model 이 Overfitting 되었는지 확인하지 않았으므로, 학습되지 않은 데이터를 해당 Model 에 넣었을 때 Model 이 Overfitting 되어 있다면 예측 결과가 정확하지 않을 수 있다."
   ]
  },
  {
   "cell_type": "markdown",
   "metadata": {},
   "source": [
    "### Problem 1-4 To solve the problem mentioned above, you must divide the train set and the test set. Try experimenting by assigning 20% of the total sample to a test set.\n",
    "- Please print MSEs of implemented model, for both of training and test set.\n",
    "- Degree is the same as the previous experiment, 0-9.\n",
    "\n",
    "*hint: Implementing it yourself can be a good experience, but using scikit-learn would make it easy to solve this problem.*"
   ]
  },
  {
   "cell_type": "code",
   "execution_count": 153,
   "metadata": {},
   "outputs": [
    {
     "name": "stdout",
     "output_type": "stream",
     "text": [
      "MSE - sklearn poly-linear regression; degree= 0 \n",
      "\ttrain:  810.3911842259089 ,\tval:  994.5258342641646\n",
      "MSE - sklearn poly-linear regression; degree= 1 \n",
      "\ttrain:  599.4985700861974 ,\tval:  687.036367270924\n",
      "MSE - sklearn poly-linear regression; degree= 2 \n",
      "\ttrain:  503.32562292573374 ,\tval:  574.9542372614919\n",
      "MSE - sklearn poly-linear regression; degree= 3 \n",
      "\ttrain:  420.97265685256303 ,\tval:  498.89643325094954\n",
      "MSE - sklearn poly-linear regression; degree= 4 \n",
      "\ttrain:  376.3104318418514 ,\tval:  454.4585162963121\n",
      "MSE - sklearn poly-linear regression; degree= 5 \n",
      "\ttrain:  342.7823338980193 ,\tval:  412.87436659295054\n",
      "MSE - sklearn poly-linear regression; degree= 6 \n",
      "\ttrain:  322.55264353051837 ,\tval:  385.23500674267933\n",
      "MSE - sklearn poly-linear regression; degree= 7 \n",
      "\ttrain:  311.40739431335766 ,\tval:  363.37695116186404\n",
      "MSE - sklearn poly-linear regression; degree= 8 \n",
      "\ttrain:  302.9162364522785 ,\tval:  353.5698688333054\n",
      "MSE - sklearn poly-linear regression; degree= 9 \n",
      "\ttrain:  296.2416035909178 ,\tval:  353.12973065383414\n"
     ]
    }
   ],
   "source": [
    "#TODO: import API for deviding training and test set\n",
    "from sklearn.model_selection import train_test_split\n",
    "\n",
    "x_train, x_val, y_train, y_val = train_test_split(xData, yData, test_size = 0.2)\n",
    "\n",
    "for deg in range(10):\n",
    "    PolynomialRegression = make_pipeline(PolynomialFeatures(deg), linear_model.Ridge())\n",
    "\n",
    "    plr = PolynomialRegression.fit(x_train, y_train)\n",
    "    print (\"MSE - sklearn poly-linear regression; degree=\", deg,\"\\n\\ttrain: \", mean_squared_error(plr.predict(x_train), y_train), \",\\tval: \", mean_squared_error(plr.predict(x_val), y_val))"
   ]
  },
  {
   "cell_type": "markdown",
   "metadata": {},
   "source": [
    "### Problem 1-5 We currently use only one feature called GDP per capita. If you want to improve performance, you will need to add features. Present other valid features and describe why you think so. \n",
    "- You only need to collect the URL. You do not need to collect data or conduct further experiments."
   ]
  },
  {
   "cell_type": "markdown",
   "metadata": {},
   "source": [
    "### YOUR ANSWER HERE ###"
   ]
  },
  {
   "cell_type": "markdown",
   "metadata": {},
   "source": [
    "url: https://en.wikipedia.org/wiki/Infant_mortality#Environmental\n",
    "\n",
    "** Features: water pollution level ** <br/>\n",
    "아이가 태어나는 환경이 좋을 경우 영아 사망률이 낮고, 아이가 태어나는 환경이 좋지 않을 경우 영아 사망률이 낮다고 생각합니다. 따라서 아이가 태어나는 환경이 영아 사망률과 관련된 Feature 라고 생각하고, 그 환경을 평가할 수 있는 척도 중 하나로 국가별 수질 오염도가 있다고 생각합니다. 실제로 Wiki 에서는 다음과 같이 water pollution 이 영아 사망률과 관련된 feature 라고 합니다. Organic water pollution is a better indicator of infant mortality than health expenditures per capita. (by wiki)\n"
   ]
  },
  {
   "cell_type": "markdown",
   "metadata": {},
   "source": [
    "## Problem2. Regression Model\n",
    "## -Amzon stock price prediction."
   ]
  },
  {
   "cell_type": "markdown",
   "metadata": {},
   "source": [
    "### Problem 2-1\n",
    "- In this problem you will predict stock price only with price related data. People usually call it as Technical analysis.\n",
    "- Find best combination of parameters to predict next day price.\n",
    "- __Your MSE loss should be lower than 30.__"
   ]
  },
  {
   "cell_type": "code",
   "execution_count": 2,
   "metadata": {
    "collapsed": true
   },
   "outputs": [],
   "source": [
    "# TODO : load data 'AMZN.csv'\n",
    "raw_data = pd.read_csv('AMZN.csv')"
   ]
  },
  {
   "cell_type": "code",
   "execution_count": 3,
   "metadata": {},
   "outputs": [
    {
     "data": {
      "text/html": [
       "<div>\n",
       "<style scoped>\n",
       "    .dataframe tbody tr th:only-of-type {\n",
       "        vertical-align: middle;\n",
       "    }\n",
       "\n",
       "    .dataframe tbody tr th {\n",
       "        vertical-align: top;\n",
       "    }\n",
       "\n",
       "    .dataframe thead th {\n",
       "        text-align: right;\n",
       "    }\n",
       "</style>\n",
       "<table border=\"1\" class=\"dataframe\">\n",
       "  <thead>\n",
       "    <tr style=\"text-align: right;\">\n",
       "      <th></th>\n",
       "      <th>Date</th>\n",
       "      <th>Open</th>\n",
       "      <th>High</th>\n",
       "      <th>Low</th>\n",
       "      <th>Close</th>\n",
       "      <th>Adj Close</th>\n",
       "      <th>Volume</th>\n",
       "    </tr>\n",
       "  </thead>\n",
       "  <tbody>\n",
       "    <tr>\n",
       "      <th>0</th>\n",
       "      <td>1997-05-15</td>\n",
       "      <td>2.437500</td>\n",
       "      <td>2.500000</td>\n",
       "      <td>1.927083</td>\n",
       "      <td>1.958333</td>\n",
       "      <td>1.958333</td>\n",
       "      <td>72156000</td>\n",
       "    </tr>\n",
       "    <tr>\n",
       "      <th>1</th>\n",
       "      <td>1997-05-16</td>\n",
       "      <td>1.968750</td>\n",
       "      <td>1.979167</td>\n",
       "      <td>1.708333</td>\n",
       "      <td>1.729167</td>\n",
       "      <td>1.729167</td>\n",
       "      <td>14700000</td>\n",
       "    </tr>\n",
       "    <tr>\n",
       "      <th>2</th>\n",
       "      <td>1997-05-19</td>\n",
       "      <td>1.760417</td>\n",
       "      <td>1.770833</td>\n",
       "      <td>1.625000</td>\n",
       "      <td>1.708333</td>\n",
       "      <td>1.708333</td>\n",
       "      <td>6106800</td>\n",
       "    </tr>\n",
       "    <tr>\n",
       "      <th>3</th>\n",
       "      <td>1997-05-20</td>\n",
       "      <td>1.729167</td>\n",
       "      <td>1.750000</td>\n",
       "      <td>1.635417</td>\n",
       "      <td>1.635417</td>\n",
       "      <td>1.635417</td>\n",
       "      <td>5467200</td>\n",
       "    </tr>\n",
       "    <tr>\n",
       "      <th>4</th>\n",
       "      <td>1997-05-21</td>\n",
       "      <td>1.635417</td>\n",
       "      <td>1.645833</td>\n",
       "      <td>1.375000</td>\n",
       "      <td>1.427083</td>\n",
       "      <td>1.427083</td>\n",
       "      <td>18853200</td>\n",
       "    </tr>\n",
       "  </tbody>\n",
       "</table>\n",
       "</div>"
      ],
      "text/plain": [
       "         Date      Open      High       Low     Close  Adj Close    Volume\n",
       "0  1997-05-15  2.437500  2.500000  1.927083  1.958333   1.958333  72156000\n",
       "1  1997-05-16  1.968750  1.979167  1.708333  1.729167   1.729167  14700000\n",
       "2  1997-05-19  1.760417  1.770833  1.625000  1.708333   1.708333   6106800\n",
       "3  1997-05-20  1.729167  1.750000  1.635417  1.635417   1.635417   5467200\n",
       "4  1997-05-21  1.635417  1.645833  1.375000  1.427083   1.427083  18853200"
      ]
     },
     "execution_count": 3,
     "metadata": {},
     "output_type": "execute_result"
    }
   ],
   "source": [
    "raw_data.head()"
   ]
  },
  {
   "cell_type": "markdown",
   "metadata": {},
   "source": [
    "<br/><br/>\n",
    "- We will use only __one kind of variable__ for __last 'lookback' days__ to predict next day close price.<br/>\n",
    "For example, if we set lookback days as 5, and use close price for our independent variable.<br/><br/>\n",
    "Close price of [1997-05-15, 1997-05-16, 1997-05-19, 1997-05-20, 1997-05-21] --> predict [1997-05-22] <br/><br/>"
   ]
  },
  {
   "cell_type": "code",
   "execution_count": null,
   "metadata": {
    "collapsed": true
   },
   "outputs": [],
   "source": [
    "\"\"\"\n",
    "TODO : make get_concated_data function.\n",
    "       this function create x and y data\n",
    "\n",
    "@Function\n",
    "get_concated_data\n",
    "\n",
    "@Inputs\n",
    "__\n",
    "raw_data : dataframe, full Amazon stock data.\n",
    "     \n",
    "\n",
    "@Returns\n",
    "___\n",
    "\n",
    "x_data \n",
    "    : <class 'numpy.ndarray'>\n",
    "    : crteated data should in shape of [len(raw_data)-lookback, lookback]\n",
    "    : x_data should be made based on 'col_name', parameters of the function, variable we will use\n",
    "    \n",
    "y_data \n",
    "    : <class 'numpy.ndarray'>\n",
    "    : crteated data should in shape of [len(raw_data)-lookback]\n",
    "    : y should be always made based on 'Close'.\n",
    "\"\"\""
   ]
  },
  {
   "cell_type": "code",
   "execution_count": 5,
   "metadata": {
    "collapsed": true
   },
   "outputs": [],
   "source": [
    "# We will use only one kind of variable as a time series data\n",
    "def get_concated_data(raw_data, col_name, lookback):\n",
    "    x_datas = list()\n",
    "    y_datas = list()\n",
    "    # col_name : Variable to be used\n",
    "    col_data = raw_data[col_name].values\n",
    "    # aggregate target variable data for length of lookback days\n",
    "    \n",
    "    ##### Your Code Here ####\n",
    "    x_datas.append([col_data[i : i + lookback] for i in range(0, len(raw_data) - lookback)])\n",
    "    y_datas.extend(raw_data['Close'].values[i] for i in range(lookback, len(raw_data)))\n",
    "    ##########################    \n",
    "    \n",
    "    x_data = np.concatenate(x_datas,0)\n",
    "    y_data = np.asarray(y_datas)\n",
    "\n",
    "    return x_data, y_data"
   ]
  },
  {
   "cell_type": "code",
   "execution_count": 163,
   "metadata": {
    "scrolled": false
   },
   "outputs": [
    {
     "data": {
      "text/plain": [
       "\"\\nTODO : make split_data function which split train / test (8 / 2 rate)\\n\\n@Function\\nsplit_data\\n\\n@Inputs\\n__\\ndata : numpy array\\n     \\n@Returns\\n___\\nx_train, x_test, y_train, y_test\\n    :<class 'numpy.ndarray'>\\n\\n\""
      ]
     },
     "execution_count": 163,
     "metadata": {},
     "output_type": "execute_result"
    }
   ],
   "source": [
    "\"\"\"\n",
    "TODO : make split_data function which split train / test (8 / 2 rate)\n",
    "\n",
    "@Function\n",
    "split_data\n",
    "\n",
    "@Inputs\n",
    "__\n",
    "data : numpy array\n",
    "     \n",
    "@Returns\n",
    "___\n",
    "x_train, x_test, y_train, y_test\n",
    "    :<class 'numpy.ndarray'>\n",
    "\n",
    "\"\"\""
   ]
  },
  {
   "cell_type": "code",
   "execution_count": 6,
   "metadata": {
    "collapsed": true
   },
   "outputs": [],
   "source": [
    "def split_data(x,y):\n",
    "    ##### Your Code Here ####\n",
    "    train_size = int(len(x) * 0.8)\n",
    "    x_train, x_test = x[:train_size], x[train_size:]\n",
    "    y_train, y_test = y[:train_size], y[train_size:]\n",
    "    ###########################\n",
    "    return x_train, x_test, y_train, y_test"
   ]
  },
  {
   "cell_type": "code",
   "execution_count": 7,
   "metadata": {},
   "outputs": [
    {
     "data": {
      "text/plain": [
       "(array([[1.958333, 1.729167, 1.708333, 1.635417, 1.427083],\n",
       "        [1.729167, 1.708333, 1.635417, 1.427083, 1.395833],\n",
       "        [1.708333, 1.635417, 1.427083, 1.395833, 1.5     ],\n",
       "        [1.635417, 1.427083, 1.395833, 1.5     , 1.583333],\n",
       "        [1.427083, 1.395833, 1.5     , 1.583333, 1.53125 ],\n",
       "        [1.395833, 1.5     , 1.583333, 1.53125 , 1.505208],\n",
       "        [1.5     , 1.583333, 1.53125 , 1.505208, 1.5     ],\n",
       "        [1.583333, 1.53125 , 1.505208, 1.5     , 1.510417],\n",
       "        [1.53125 , 1.505208, 1.5     , 1.510417, 1.479167],\n",
       "        [1.505208, 1.5     , 1.510417, 1.479167, 1.416667]]),\n",
       " array([1.395833, 1.5     , 1.583333, 1.53125 , 1.505208, 1.5     ,\n",
       "        1.510417, 1.479167, 1.416667, 1.541667]))"
      ]
     },
     "execution_count": 7,
     "metadata": {},
     "output_type": "execute_result"
    }
   ],
   "source": [
    "x, y = get_concated_data(raw_data, 'Close', 5)\n",
    "x[:10], y[:10]"
   ]
  },
  {
   "cell_type": "code",
   "execution_count": 8,
   "metadata": {},
   "outputs": [
    {
     "data": {
      "text/plain": [
       "((4226, 5), (4226,), (1057, 5), (1057,))"
      ]
     },
     "execution_count": 8,
     "metadata": {},
     "output_type": "execute_result"
    }
   ],
   "source": [
    "x_train, x_test, y_train, y_test = split_data(x, y)\n",
    "x_train.shape, y_train.shape, x_test.shape, y_test.shape"
   ]
  },
  {
   "cell_type": "markdown",
   "metadata": {},
   "source": [
    "### <br/>Problem 2-2 Find best parameter combination \n",
    "- You can choose which __columns to use__ as variable for __how many days__, and in which __polynomial space.__\n",
    "- Find the best combination of parameters to predict next day price.\n",
    "- __Find combination which makes MSE loss for train data lower than 6.__"
   ]
  },
  {
   "cell_type": "code",
   "execution_count": 9,
   "metadata": {
    "collapsed": true
   },
   "outputs": [],
   "source": [
    "# TODO : complete run_regression function\n",
    "# Hint : use api i gave below"
   ]
  },
  {
   "cell_type": "code",
   "execution_count": 10,
   "metadata": {
    "collapsed": true
   },
   "outputs": [],
   "source": [
    "from sklearn.preprocessing import PolynomialFeatures\n",
    "from sklearn import linear_model\n",
    "from sklearn.pipeline import make_pipeline\n",
    "\n",
    "def run_regression(raw_data, column_name, lookback_days, poly_degree):\n",
    "    # performing regression analysis with specified parameters\n",
    "    x, y = get_concated_data(raw_data, column_name, lookback_days)\n",
    "    x_train, x_test, y_train, y_test = split_data(x, y)\n",
    "\n",
    "    ##### Your Code Here ####\n",
    "    model = make_pipeline(PolynomialFeatures(poly_degree), linear_model.Ridge())\n",
    "    model.fit(x_train, y_train)\n",
    "    test_pred = model.predict(x_test)\n",
    "    ########################\n",
    "    \n",
    "    print (\"lookback_days: %d, poly_degree: %d\" % (lookback_days, poly_degree))\n",
    "    print (\"MSE - Train %.4f\" % mean_squared_error(model.predict(x_train), y_train))\n",
    "    print (\"MSE - Test %.4f\" % mean_squared_error(model.predict(x_test), y_test), end=\"\\n\\n\")\n",
    "    \n",
    "    return test_pred, y_test"
   ]
  },
  {
   "cell_type": "code",
   "execution_count": 11,
   "metadata": {
    "collapsed": true
   },
   "outputs": [],
   "source": [
    "# TODO : run experiment with various combination"
   ]
  },
  {
   "cell_type": "code",
   "execution_count": 12,
   "metadata": {},
   "outputs": [
    {
     "name": "stdout",
     "output_type": "stream",
     "text": [
      "lookback_days: 3, poly_degree: 1\n",
      "MSE - Train 8.6425\n",
      "MSE - Test 179.1984\n",
      "\n",
      "lookback_days: 3, poly_degree: 2\n",
      "MSE - Train 8.4760\n",
      "MSE - Test 288.2356\n",
      "\n",
      "lookback_days: 3, poly_degree: 3\n",
      "MSE - Train 8.3789\n",
      "MSE - Test 17324.3778\n",
      "\n"
     ]
    }
   ],
   "source": [
    "test_pred, y_test = run_regression(raw_data, column_name='Close', lookback_days=3, poly_degree=1)\n",
    "test_pred, y_test = run_regression(raw_data, column_name='Close', lookback_days=3, poly_degree=2)\n",
    "test_pred, y_test = run_regression(raw_data, column_name='Close', lookback_days=3, poly_degree=3)"
   ]
  },
  {
   "cell_type": "code",
   "execution_count": 13,
   "metadata": {},
   "outputs": [
    {
     "name": "stdout",
     "output_type": "stream",
     "text": [
      "lookback_days: 5, poly_degree: 1\n",
      "MSE - Train 8.6340\n",
      "MSE - Test 178.9267\n",
      "\n",
      "lookback_days: 5, poly_degree: 2\n",
      "MSE - Train 8.3956\n",
      "MSE - Test 309.7590\n",
      "\n",
      "lookback_days: 5, poly_degree: 3\n",
      "MSE - Train 8.0901\n",
      "MSE - Test 20004.6228\n",
      "\n"
     ]
    }
   ],
   "source": [
    "test_pred, y_test = run_regression(raw_data, column_name='Close', lookback_days=5, poly_degree=1)\n",
    "test_pred, y_test = run_regression(raw_data, column_name='Close', lookback_days=5, poly_degree=2)\n",
    "test_pred, y_test = run_regression(raw_data, column_name='Close', lookback_days=5, poly_degree=3)"
   ]
  },
  {
   "cell_type": "code",
   "execution_count": 14,
   "metadata": {},
   "outputs": [
    {
     "name": "stdout",
     "output_type": "stream",
     "text": [
      "lookback_days: 10, poly_degree: 1\n",
      "MSE - Train 8.6154\n",
      "MSE - Test 180.4601\n",
      "\n",
      "lookback_days: 10, poly_degree: 2\n",
      "MSE - Train 8.0687\n",
      "MSE - Test 395.6352\n",
      "\n",
      "lookback_days: 10, poly_degree: 3\n",
      "MSE - Train 6.4063\n",
      "MSE - Test 197111.6117\n",
      "\n"
     ]
    }
   ],
   "source": [
    "test_pred, y_test = run_regression(raw_data, column_name='Close', lookback_days=10, poly_degree=1)\n",
    "test_pred, y_test = run_regression(raw_data, column_name='Close', lookback_days=10, poly_degree=2)\n",
    "test_pred, y_test = run_regression(raw_data, column_name='Close', lookback_days=10, poly_degree=3)"
   ]
  },
  {
   "cell_type": "code",
   "execution_count": 21,
   "metadata": {
    "scrolled": true
   },
   "outputs": [
    {
     "name": "stdout",
     "output_type": "stream",
     "text": [
      "lookback_days: 30, poly_degree: 1\n",
      "MSE - Train 8.5848\n",
      "MSE - Test 181.3826\n",
      "\n",
      "lookback_days: 30, poly_degree: 2\n",
      "MSE - Train 5.6887\n",
      "MSE - Test 2489.8055\n",
      "\n"
     ]
    },
    {
     "name": "stderr",
     "output_type": "stream",
     "text": [
      "C:\\Users\\Jinhe\\Anaconda3\\lib\\site-packages\\scipy\\linalg\\basic.py:223: RuntimeWarning: scipy.linalg.solve\n",
      "Ill-conditioned matrix detected. Result is not guaranteed to be accurate.\n",
      "Reciprocal condition number: 3.3122312878246676e-22\n",
      "  ' condition number: {}'.format(rcond), RuntimeWarning)\n"
     ]
    },
    {
     "name": "stdout",
     "output_type": "stream",
     "text": [
      "lookback_days: 30, poly_degree: 3\n",
      "MSE - Train 64443.3089\n",
      "MSE - Test 177534680398.9576\n",
      "\n"
     ]
    }
   ],
   "source": [
    "test_pred, y_test = run_regression(raw_data, column_name='Close', lookback_days=30, poly_degree=1)\n",
    "test_pred, y_test = run_regression(raw_data, column_name='Close', lookback_days=30, poly_degree=2)\n",
    "test_pred, y_test = run_regression(raw_data, column_name='Close', lookback_days=30, poly_degree=3)"
   ]
  },
  {
   "cell_type": "markdown",
   "metadata": {},
   "source": [
    "Write Combination that you've found. (Train loss lower than 6) <br/><br/>\n",
    "Variable : 'Close'      <br/>\n",
    "Lookback : 30      <br/>\n",
    "Poly_degree : 2      <br/>"
   ]
  },
  {
   "cell_type": "markdown",
   "metadata": {},
   "source": [
    "### Problem 2-3 Overfitting & Underfitting\n",
    "1. Briefly explain about the concept of overfitting and underftting with proper example that you can find from experiment above.\n",
    "2. In the above problem desciption, I set your goal as fiding best parameters for total data loss. What is wrong with it? "
   ]
  },
  {
   "cell_type": "markdown",
   "metadata": {},
   "source": [
    "### YOUR ANSWER HERE ###"
   ]
  },
  {
   "cell_type": "markdown",
   "metadata": {},
   "source": [
    "##### Overfitting and Underfitting\n",
    "1. Concept of Overfitting and Underfitting <br/>\n",
    "(1) Overfitting: Data 를 통해 나타나는 Model 의 Capacity 보다 더 큰 Capacity 를 사용하여 (Complex Model) Train Data Set 에 대해서는 좋은 성능을 보이지만 Test Data Set 에 대해서는 좋은 성능을 보이지 못한다. <br/>\n",
    "(2) Underfitting: Data 를 통해 나타나는 Model 의 Capacity 보다 더 작은 Capacity 를 사용하여 (Simple Model) Train, Test Data Set 모두에 대해 좋은 성능을 보이지 못한다.\n",
    "2. Overfitting <br/>\n",
    "poly_degree (1 -> 2 -> 3) 이 증가함에 따라 대체로 Train Data Set 에서는 정확도가 상승하는 모습을 볼 수 있으나, Test Data Set 에서는 정확도가 급격하게 감소하는 모습을 관찰할 수 있다. 이는 학습시킨 모델이 Train Data Set 에 대해 과도하게 Overfitting 되었기 때문에 나타나는 현상이라고 할 수 있다.\n",
    "3. Underfitting <br/>\n",
    "poly_degree 가 1인 상태에서 look_back 이 3일 때 보다 look_back 이 5일 때 Train, Test data 에 대해 모두 성능 향상이 존재한다. 비록 근소한 차이긴 하지만 이는 look_back 3을 사용할 때 보다 look_back 이 5일 때의 더 복잡한 model 에서 높은 성능이 관찰되었고, 따라서 poly_degree 가 1인 상태에서 look_back 이 3인 모델은 Underfitting 된 모델이다.\n",
    "\n",
    "##### Finding best parameters for total data loss\n",
    "Total data loss 에 좋은 model 의 parameter 를 결정할 때 필요한 것은, Train data 에 대한 loss 가 아닌 Test data 에 대한 loss 여야 한다. 그 이유는 모델을 학습시킬 때 Train data 에 잘 맞는 모델이 구성(Train data 를 사용하여 학습하므로)되기 때문에, Train Data 에 대한 loss 는 자연스럽게 낮을 수 밖에 없다. 하지만 해당 모델이 우리가 학습시키지 않은 실제 데이터에도 잘 맞는지 확인해봐야 하며, 이를 확인하는 방법 중 하나로 Test data 에 대한 loss 계산을 이용하면 된다. 따라서 실제 데이터에 잘 맞는지 확인할 수 있는 척도인 Test data 에 대한 loss 로 best parameter 를 결정해야 하는 것이지, Train data 에 잘 맞는 parameter 을 결정하면 안된다."
   ]
  },
  {
   "cell_type": "markdown",
   "metadata": {},
   "source": [
    "### Problem 2-4 Visualization\n",
    "- Visualize your predicton.\n",
    "- You can use code below with proper variable.\n",
    "- __Your best model's prediction --> best_pred.__"
   ]
  },
  {
   "cell_type": "code",
   "execution_count": 42,
   "metadata": {},
   "outputs": [
    {
     "name": "stdout",
     "output_type": "stream",
     "text": [
      "lookback_days: 5, poly_degree: 1\n",
      "MSE - Train 8.6340\n",
      "MSE - Test 178.9267\n",
      "\n"
     ]
    }
   ],
   "source": [
    "# TODO : Assign your best prediction for test data to best_pred\n",
    "# (Apply model that best fit into test data)\n",
    "best_pred, y_test = run_regression(raw_data, column_name='Close', lookback_days=5, poly_degree=1)"
   ]
  },
  {
   "cell_type": "code",
   "execution_count": 43,
   "metadata": {},
   "outputs": [
    {
     "data": {
      "image/png": "[encoded data removed]",
      "text/plain": [
       "<matplotlib.figure.Figure at 0x1a50269c4e0>"
      ]
     },
     "metadata": {},
     "output_type": "display_data"
    }
   ],
   "source": [
    "from matplotlib import pyplot as plt\n",
    "\n",
    "plt.figure(figsize=(20,10))\n",
    "plt.plot(best_pred, label='prediction')\n",
    "plt.plot(y_test, label='target')\n",
    "plt.legend(loc='best', fontsize=20)\n",
    "plt.show()"
   ]
  },
  {
   "cell_type": "markdown",
   "metadata": {},
   "source": [
    "## Problem3. Classification Model : Sentiment Analysis (NLP)\n",
    "- Use amazon_cells_labelled.tsv data to solve your problem3"
   ]
  },
  {
   "cell_type": "code",
   "execution_count": 65,
   "metadata": {
    "collapsed": true
   },
   "outputs": [],
   "source": [
    "import pandas as pd\n",
    "import numpy as np\n",
    "import matplotlib.pyplot as plt\n",
    "%matplotlib inline"
   ]
  },
  {
   "cell_type": "markdown",
   "metadata": {},
   "source": [
    "### Problem 3-1 Load Data\n",
    "- Load amazon_cells_labelled.tsv and make pandas dataframe."
   ]
  },
  {
   "cell_type": "code",
   "execution_count": 71,
   "metadata": {
    "collapsed": true
   },
   "outputs": [],
   "source": [
    "amazon_review = pd.read_csv('amazon_cells_labelled.tsv', sep='\\t')"
   ]
  },
  {
   "cell_type": "code",
   "execution_count": 72,
   "metadata": {},
   "outputs": [
    {
     "data": {
      "text/html": [
       "<div>\n",
       "<style scoped>\n",
       "    .dataframe tbody tr th:only-of-type {\n",
       "        vertical-align: middle;\n",
       "    }\n",
       "\n",
       "    .dataframe tbody tr th {\n",
       "        vertical-align: top;\n",
       "    }\n",
       "\n",
       "    .dataframe thead th {\n",
       "        text-align: right;\n",
       "    }\n",
       "</style>\n",
       "<table border=\"1\" class=\"dataframe\">\n",
       "  <thead>\n",
       "    <tr style=\"text-align: right;\">\n",
       "      <th></th>\n",
       "      <th>Review</th>\n",
       "      <th>Sentiment</th>\n",
       "    </tr>\n",
       "  </thead>\n",
       "  <tbody>\n",
       "    <tr>\n",
       "      <th>0</th>\n",
       "      <td>So there is no way for me to plug it in here i...</td>\n",
       "      <td>0</td>\n",
       "    </tr>\n",
       "    <tr>\n",
       "      <th>1</th>\n",
       "      <td>Good case, Excellent value.</td>\n",
       "      <td>1</td>\n",
       "    </tr>\n",
       "    <tr>\n",
       "      <th>2</th>\n",
       "      <td>Great for the jawbone.</td>\n",
       "      <td>1</td>\n",
       "    </tr>\n",
       "    <tr>\n",
       "      <th>3</th>\n",
       "      <td>Tied to charger for conversations lasting more...</td>\n",
       "      <td>0</td>\n",
       "    </tr>\n",
       "    <tr>\n",
       "      <th>4</th>\n",
       "      <td>The mic is great.</td>\n",
       "      <td>1</td>\n",
       "    </tr>\n",
       "  </tbody>\n",
       "</table>\n",
       "</div>"
      ],
      "text/plain": [
       "                                              Review  Sentiment\n",
       "0  So there is no way for me to plug it in here i...          0\n",
       "1                        Good case, Excellent value.          1\n",
       "2                             Great for the jawbone.          1\n",
       "3  Tied to charger for conversations lasting more...          0\n",
       "4                                  The mic is great.          1"
      ]
     },
     "execution_count": 72,
     "metadata": {},
     "output_type": "execute_result"
    }
   ],
   "source": [
    "amazon_review.head()"
   ]
  },
  {
   "cell_type": "markdown",
   "metadata": {},
   "source": [
    "### Problem 3-2 BOW (Bag Of Word)\n",
    "- Finish your make_review_bow function.\n",
    "- Make BOW using make_review_bow function.\n",
    "- Make BOW_df using BOW you made.\n",
    "    \n",
    "*hint: Refer to Tutorial code below*"
   ]
  },
  {
   "cell_type": "code",
   "execution_count": 73,
   "metadata": {
    "collapsed": true
   },
   "outputs": [],
   "source": [
    "from sklearn.feature_extraction.text import CountVectorizer"
   ]
  },
  {
   "cell_type": "code",
   "execution_count": 74,
   "metadata": {},
   "outputs": [
    {
     "name": "stdout",
     "output_type": "stream",
     "text": [
      "# Original text is \n",
      " This is the first sentence.\n",
      "Creating BOW step by step.\n",
      "This is the last sentence.\n",
      "# Word Vector\n",
      "   (0, 3)\t1\n",
      "  (0, 4)\t1\n",
      "  (0, 6)\t1\n",
      "  (0, 8)\t1\n",
      "  (0, 9)\t1\n",
      "  (1, 0)\t1\n",
      "  (1, 1)\t1\n",
      "  (1, 2)\t1\n",
      "  (1, 7)\t2\n",
      "  (2, 4)\t1\n",
      "  (2, 5)\t1\n",
      "  (2, 6)\t1\n",
      "  (2, 8)\t1\n",
      "  (2, 9)\t1\n"
     ]
    },
    {
     "data": {
      "text/html": [
       "<div>\n",
       "<style scoped>\n",
       "    .dataframe tbody tr th:only-of-type {\n",
       "        vertical-align: middle;\n",
       "    }\n",
       "\n",
       "    .dataframe tbody tr th {\n",
       "        vertical-align: top;\n",
       "    }\n",
       "\n",
       "    .dataframe thead th {\n",
       "        text-align: right;\n",
       "    }\n",
       "</style>\n",
       "<table border=\"1\" class=\"dataframe\">\n",
       "  <thead>\n",
       "    <tr style=\"text-align: right;\">\n",
       "      <th></th>\n",
       "      <th>bow</th>\n",
       "      <th>by</th>\n",
       "      <th>creating</th>\n",
       "      <th>first</th>\n",
       "      <th>is</th>\n",
       "      <th>last</th>\n",
       "      <th>sentence</th>\n",
       "      <th>step</th>\n",
       "      <th>the</th>\n",
       "      <th>this</th>\n",
       "    </tr>\n",
       "  </thead>\n",
       "  <tbody>\n",
       "    <tr>\n",
       "      <th>0</th>\n",
       "      <td>0</td>\n",
       "      <td>0</td>\n",
       "      <td>0</td>\n",
       "      <td>1</td>\n",
       "      <td>1</td>\n",
       "      <td>0</td>\n",
       "      <td>1</td>\n",
       "      <td>0</td>\n",
       "      <td>1</td>\n",
       "      <td>1</td>\n",
       "    </tr>\n",
       "    <tr>\n",
       "      <th>1</th>\n",
       "      <td>1</td>\n",
       "      <td>1</td>\n",
       "      <td>1</td>\n",
       "      <td>0</td>\n",
       "      <td>0</td>\n",
       "      <td>0</td>\n",
       "      <td>0</td>\n",
       "      <td>2</td>\n",
       "      <td>0</td>\n",
       "      <td>0</td>\n",
       "    </tr>\n",
       "    <tr>\n",
       "      <th>2</th>\n",
       "      <td>0</td>\n",
       "      <td>0</td>\n",
       "      <td>0</td>\n",
       "      <td>0</td>\n",
       "      <td>1</td>\n",
       "      <td>1</td>\n",
       "      <td>1</td>\n",
       "      <td>0</td>\n",
       "      <td>1</td>\n",
       "      <td>1</td>\n",
       "    </tr>\n",
       "  </tbody>\n",
       "</table>\n",
       "</div>"
      ],
      "text/plain": [
       "   bow  by  creating  first  is  last  sentence  step  the  this\n",
       "0    0   0         0      1   1     0         1     0    1     1\n",
       "1    1   1         1      0   0     0         0     2    0     0\n",
       "2    0   0         0      0   1     1         1     0    1     1"
      ]
     },
     "execution_count": 74,
     "metadata": {},
     "output_type": "execute_result"
    }
   ],
   "source": [
    "#BOW Tutorial\n",
    "\n",
    "example_doc = [\n",
    "    'This is the first sentence.',\n",
    "    'Creating BOW step by step.',\n",
    "    'This is the last sentence.'\n",
    "]\n",
    "\n",
    "print ('# Original text is \\n', '\\n'.join(example_doc))\n",
    "\n",
    "vectorizer = CountVectorizer(min_df=0)\n",
    "\n",
    "vectorizer.fit(example_doc)\n",
    "x = vectorizer.transform(example_doc)\n",
    "print ('# Word Vector\\n', x)\n",
    "\n",
    "bow = x.toarray()\n",
    "\n",
    "bow_df = pd.DataFrame(bow, columns=vectorizer.get_feature_names())\n",
    "bow_df"
   ]
  },
  {
   "cell_type": "code",
   "execution_count": 76,
   "metadata": {},
   "outputs": [
    {
     "data": {
      "text/plain": [
       "array([[0, 0, 0, 1, 1, 0, 1, 0, 1, 1],\n",
       "       [1, 1, 1, 0, 0, 0, 0, 2, 0, 0],\n",
       "       [0, 0, 0, 0, 1, 1, 1, 0, 1, 1]], dtype=int64)"
      ]
     },
     "execution_count": 76,
     "metadata": {},
     "output_type": "execute_result"
    }
   ],
   "source": [
    "bow"
   ]
  },
  {
   "cell_type": "code",
   "execution_count": null,
   "metadata": {
    "collapsed": true
   },
   "outputs": [],
   "source": [
    "\"\"\"\n",
    "@Function\n",
    "make_review_bow\n",
    "\n",
    "@Inputs\n",
    "__\n",
    "data : data frame\n",
    "    Amajon review data frame\n",
    "\n",
    "@Returns\n",
    "___\n",
    "vectorizer \n",
    "    :<class 'sklearn.feature_extraction.text.CountVectorizer'> \n",
    "    \n",
    "bow \n",
    "    : <class 'scipy.sparse.csr.csr_matrix'>\n",
    "\"\"\"\n",
    "\n",
    "def make_review_bow(data):    \n",
    "    vectorizer = CountVectorizer(min_df=0)\n",
    "    \n",
    "    ###YOUR CODE HERE###\n",
    "\n",
    "    return vectorizer, bow"
   ]
  },
  {
   "cell_type": "code",
   "execution_count": null,
   "metadata": {
    "collapsed": true
   },
   "outputs": [],
   "source": [
    "vectorizer, bow = make_review_bow(amazon_review)\n",
    "bow_df = #TODO\n",
    "bow_df"
   ]
  },
  {
   "cell_type": "markdown",
   "metadata": {},
   "source": [
    "### Problem 3-3 Split Data : Train / Test\n",
    "- Split your data (1000 reviews) __Train: 800 / Test: 200__ randomly. \n",
    "    - X: bow_df of Review / Y: Sentiment[(int type) 1:pos, 0:neg] \n",
    "    - __Make sure your X data match to Y data in random shuffling.__\n",
    "\n",
    "*hint: Implementing it yourself can be a good experience, but using scikit-learn would make it easy to solve this problem.*"
   ]
  },
  {
   "cell_type": "code",
   "execution_count": null,
   "metadata": {
    "collapsed": true
   },
   "outputs": [],
   "source": [
    "###YOUR CODE HERE###"
   ]
  },
  {
   "cell_type": "markdown",
   "metadata": {},
   "source": [
    "### Problem 3-4 Model by SGDClassifier\n",
    "- Use SGDClassifer to make you classficiation model.\n",
    "- Train your model using train data and report test score using test data.\n",
    "\n",
    "*hint: Refer to http://scikit-learn.org/stable/modules/generated/sklearn.linear_model.SGDClassifier.html*"
   ]
  },
  {
   "cell_type": "code",
   "execution_count": null,
   "metadata": {
    "collapsed": true
   },
   "outputs": [],
   "source": [
    "from sklearn.linear_model import SGDClassifier"
   ]
  },
  {
   "cell_type": "code",
   "execution_count": null,
   "metadata": {
    "collapsed": true
   },
   "outputs": [],
   "source": [
    "###YOUR CODE HERE###"
   ]
  },
  {
   "cell_type": "code",
   "execution_count": null,
   "metadata": {
    "collapsed": true
   },
   "outputs": [],
   "source": [
    "sgdScore = #TODO\n",
    "print (\"Model Accuracy: %f\" % sgdScore)"
   ]
  },
  {
   "cell_type": "markdown",
   "metadata": {},
   "source": [
    "### Problem 3-5 Model by Multinomial Naive Bayes\n",
    "- Use MultinomialNB to make you classficiation model.\n",
    "- Train your model using train data and report test score using test data.\n",
    "\n",
    "*hint: Refer to http://scikit-learn.org/stable/modules/generated/sklearn.naive_bayes.MultinomialNB.html *"
   ]
  },
  {
   "cell_type": "code",
   "execution_count": null,
   "metadata": {
    "collapsed": true
   },
   "outputs": [],
   "source": [
    "from sklearn.naive_bayes import MultinomialNB"
   ]
  },
  {
   "cell_type": "code",
   "execution_count": null,
   "metadata": {
    "collapsed": true
   },
   "outputs": [],
   "source": [
    "###YOUR CODE HERE###"
   ]
  },
  {
   "cell_type": "code",
   "execution_count": null,
   "metadata": {
    "collapsed": true
   },
   "outputs": [],
   "source": [
    "nbScore = #TODO\n",
    "print (\"Model Accuracy: %f\" % nbScore)"
   ]
  },
  {
   "cell_type": "markdown",
   "metadata": {},
   "source": [
    "### Problem 3-6 Select the Best Model with 5 fold Cross Validation\n",
    "- Split your data (1000 reviews) __Train: 600 / Validation: 200 / Test: 200__ randomly. \n",
    "    - X: bow_df of Review / Y: Sentiment[(int type) 1:pos, 0:neg] \n",
    "    - __Make sure your X data match to Y data in random shuffling.__\n",
    "- Choose model you want to use(SGD or NB or both) and give us reason why you choose it.\n",
    "- Train your model with different parameters using train data and check your model performance by cross validataion score.\n",
    "- Choose your best model using cross validataion sets and report your test score."
   ]
  },
  {
   "cell_type": "code",
   "execution_count": null,
   "metadata": {
    "collapsed": true
   },
   "outputs": [],
   "source": [
    "#Split Data\n",
    "###YOUR CODE HERE###"
   ]
  },
  {
   "cell_type": "markdown",
   "metadata": {},
   "source": [
    "### YOUR ANSWER HERE [reason why you choose that model] ###\n"
   ]
  },
  {
   "cell_type": "markdown",
   "metadata": {},
   "source": []
  },
  {
   "cell_type": "code",
   "execution_count": null,
   "metadata": {
    "collapsed": true
   },
   "outputs": [],
   "source": [
    "###YOUR CODE HERE###"
   ]
  },
  {
   "cell_type": "code",
   "execution_count": null,
   "metadata": {
    "collapsed": true
   },
   "outputs": [],
   "source": [
    "###YOUR CODE HERE###"
   ]
  },
  {
   "cell_type": "code",
   "execution_count": null,
   "metadata": {
    "collapsed": true
   },
   "outputs": [],
   "source": [
    "score = #TODO\n",
    "print (\"Model Accuracy: %f\" % score)"
   ]
  },
  {
   "cell_type": "markdown",
   "metadata": {},
   "source": [
    "## Problem4. Clustering Model\n",
    "- In this problem, you will cluster news article documents after converting them to TF-IDF vectors.\n",
    "- All results may be different from the example results depending on your choice."
   ]
  },
  {
   "cell_type": "code",
   "execution_count": 1,
   "metadata": {
    "collapsed": true
   },
   "outputs": [],
   "source": [
    "import pandas as pd\n",
    "import numpy as np\n",
    "from sklearn.datasets import fetch_20newsgroups\n",
    "from sklearn.feature_extraction.text import TfidfVectorizer\n",
    "from sklearn.cluster import KMeans\n",
    "from sklearn.metrics.pairwise import cosine_similarity\n",
    "import matplotlib.pyplot as plt\n",
    "from sklearn.manifold import MDS"
   ]
  },
  {
   "cell_type": "markdown",
   "metadata": {},
   "source": [
    "### Problem 4-1 Pick 3 Categories you want and download"
   ]
  },
  {
   "cell_type": "code",
   "execution_count": 2,
   "metadata": {
    "collapsed": true
   },
   "outputs": [],
   "source": [
    "\"\"\"\n",
    "\n",
    "['alt.atheism',\n",
    " 'comp.graphics',\n",
    " 'comp.os.ms-windows.misc',\n",
    " 'comp.sys.ibm.pc.hardware',\n",
    " 'comp.sys.mac.hardware',\n",
    " 'comp.windows.x',\n",
    " 'misc.forsale',\n",
    " 'rec.autos',\n",
    " 'rec.motorcycles',\n",
    " 'rec.sport.baseball',\n",
    " 'rec.sport.hockey',\n",
    " 'sci.crypt',\n",
    " 'sci.electronics',\n",
    " 'sci.med',\n",
    " 'sci.space',\n",
    " 'soc.religion.christian',\n",
    " 'talk.politics.guns',\n",
    " 'talk.politics.mideast',\n",
    " 'talk.politics.misc',\n",
    " 'talk.religion.misc']\n",
    " \n",
    "\"\"\"\n",
    "categories = [#TODO\n",
    "                    ]"
   ]
  },
  {
   "cell_type": "code",
   "execution_count": 3,
   "metadata": {},
   "outputs": [
    {
     "name": "stdout",
     "output_type": "stream",
     "text": [
      "the 20 newsgroups by date dataset\n",
      "1180 documents\n",
      "3 categories\n"
     ]
    }
   ],
   "source": [
    "dataset = fetch_20newsgroups(subset='test', categories=categories,\n",
    "                             shuffle=True, random_state=45)\n",
    "print(\"%s\" % dataset.description)\n",
    "print(\"%d documents\" % len(dataset.data))\n",
    "print(\"%d categories\" % len(dataset.target_names))"
   ]
  },
  {
   "cell_type": "markdown",
   "metadata": {},
   "source": [
    "### Problem 4-2 Convert the documents to a tf-idf matrix \n",
    "- refer to http://mlwiki.org/index.php/TF-IDF\n",
    "- You can use sklearn.\n",
    "- Set your own hyperparams."
   ]
  },
  {
   "cell_type": "code",
   "execution_count": 4,
   "metadata": {},
   "outputs": [
    {
     "data": {
      "text/plain": [
       "<1180x10000 sparse matrix of type '<class 'numpy.float64'>'\n",
       "\twith 109470 stored elements in Compressed Sparse Row format>"
      ]
     },
     "execution_count": 4,
     "metadata": {},
     "output_type": "execute_result"
    }
   ],
   "source": [
    "tfidf_vectorizer = #TODO\n",
    "tfidf_matrix = #TODO\n",
    "tfidf_matrix"
   ]
  },
  {
   "cell_type": "markdown",
   "metadata": {},
   "source": [
    "### Problem 4-3 Cluster the documents using K-means\n",
    "- You can use sklearn\n",
    "- Set your own hyperparams"
   ]
  },
  {
   "cell_type": "code",
   "execution_count": 6,
   "metadata": {},
   "outputs": [
    {
     "name": "stdout",
     "output_type": "stream",
     "text": [
      "[0, 1, 2, 2, 0, 2, 0, 0, 2, 2]\n"
     ]
    }
   ],
   "source": [
    "num_clusters = 3\n",
    "km = #TODO\n",
    "#TODO\n",
    "clusters = km.labels_.tolist()\n",
    "print(clusters[:10])"
   ]
  },
  {
   "cell_type": "markdown",
   "metadata": {},
   "source": [
    "### Problem 4-4 Visualize document clusters\n",
    "- You can use sklearn\n",
    "- It may take a long time to compile"
   ]
  },
  {
   "cell_type": "code",
   "execution_count": 7,
   "metadata": {
    "collapsed": true
   },
   "outputs": [],
   "source": [
    "#USE THIS -DO NOT CHANGE-\n",
    "dist = 1 - cosine_similarity(tfidf_matrix)\n",
    "MDS()\n",
    "mds = MDS(n_components=2, dissimilarity=\"precomputed\", random_state=1)\n",
    "pos = mds.fit_transform(dist)\n",
    "xs, ys = pos[:, 0], pos[:, 1]\n",
    "\n",
    "cluster_colors = {0: '#1b9e77', 1: '#d95f02', 2: '#7570b3'}\n",
    "cluster_names = categories"
   ]
  },
  {
   "cell_type": "code",
   "execution_count": 8,
   "metadata": {},
   "outputs": [
    {
     "data": {
      "image/png": "[encoded data removed]",
      "text/plain": [
       "<matplotlib.figure.Figure at 0x7fcbab29b470>"
      ]
     },
     "metadata": {},
     "output_type": "display_data"
    }
   ],
   "source": [
    "def visualize_clusters(xs, ys, clusters, cluster_names, cluster_colors):\n",
    "    %matplotlib inline \n",
    "    df = pd.DataFrame(dict(x=xs, y=ys, label=clusters)) \n",
    "    groups = ##TODO\n",
    "    fig, ax = plt.subplots(figsize=(17, 9))\n",
    "    ax.margins(0.05) \n",
    "    for name, group in groups:\n",
    "        ax.plot(group.x, group.y, marker='o', linestyle='', ms=12, \n",
    "                label= #TODO, \n",
    "                color= #TODO, \n",
    "                mec='none')\n",
    "        ax.set_aspect('auto')\n",
    "        ax.tick_params(\\\n",
    "            axis= 'x',          \n",
    "            which='both',      \n",
    "            bottom='off',      \n",
    "            top='off',         \n",
    "            labelbottom='off')\n",
    "        ax.tick_params(\\\n",
    "            axis= 'y',         \n",
    "            which='both',     \n",
    "            left='off',     \n",
    "            top='off',      \n",
    "            labelleft='off')\n",
    "    ax.legend(numpoints=1) \n",
    "    plt.show() \n",
    "\n",
    "visualize_clusters(xs, ys, clusters, cluster_names, cluster_colors)"
   ]
  }
 ],
 "metadata": {
  "anaconda-cloud": {},
  "kernelspec": {
   "display_name": "Python 3",
   "language": "python",
   "name": "python3"
  },
  "language_info": {
   "codemirror_mode": {
    "name": "ipython",
    "version": 3
   },
   "file_extension": ".py",
   "mimetype": "text/x-python",
   "name": "python",
   "nbconvert_exporter": "python",
   "pygments_lexer": "ipython3",
   "version": "3.6.1"
  }
 },
 "nbformat": 4,
 "nbformat_minor": 1
}
