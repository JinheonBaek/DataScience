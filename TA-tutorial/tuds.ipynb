{
 "cells": [
  {
   "cell_type": "markdown",
   "metadata": {},
   "source": [
    "# Very basics of python & Jupyter nb"
   ]
  },
  {
   "cell_type": "code",
   "execution_count": 1,
   "metadata": {},
   "outputs": [
    {
     "name": "stdout",
     "output_type": "stream",
     "text": [
      "3\n"
     ]
    }
   ],
   "source": [
    "a=1\n",
    "b=2\n",
    "print(a+b)"
   ]
  },
  {
   "cell_type": "markdown",
   "metadata": {},
   "source": [
    "Run cells by yourself!"
   ]
  },
  {
   "cell_type": "code",
   "execution_count": 2,
   "metadata": {},
   "outputs": [
    {
     "name": "stdout",
     "output_type": "stream",
     "text": [
      "1\n",
      "3\n"
     ]
    }
   ],
   "source": [
    "print(a) # data in Variable is shared within a single notebook.\n",
    "print(a*3)"
   ]
  },
  {
   "cell_type": "code",
   "execution_count": 3,
   "metadata": {},
   "outputs": [
    {
     "name": "stdout",
     "output_type": "stream",
     "text": [
      "Hello world!\n",
      "Hello world!I love Python\n",
      "123451234512345\n"
     ]
    }
   ],
   "source": [
    "print(\"Hello world!\" )# Printing strings\n",
    "print(\"Hello world!\" + \"I love Python\")#Also you can concatenate strings by \"+\"\n",
    "print(\"12345\"*3) #Iterate string"
   ]
  },
  {
   "cell_type": "code",
   "execution_count": 4,
   "metadata": {},
   "outputs": [
    {
     "name": "stdout",
     "output_type": "stream",
     "text": [
      "Data Science\n",
      "D e\n",
      "Dat\n",
      "5\n",
      "Science\n"
     ]
    }
   ],
   "source": [
    "c = \"Data Science\"\n",
    "print(c)\n",
    "print(c[0], c[-1]) #-1 means count from the end\n",
    "print(c[0:3]) # You can parse string. Index 0~2\n",
    "\n",
    "index=c.find(\"Sci\") #or you can find index of some string in given string\n",
    "print(index)\n",
    "print(c[index:]) #empty means till the start/end"
   ]
  },
  {
   "cell_type": "markdown",
   "metadata": {},
   "source": [
    "### For further study on basic python grammer, google it.\n",
    "For English users, Python official documents will help you. https://docs.python.org/3/tutorial/index.html\n",
    "<br>For Korean users, I recommand \"Jump to Python\" : https://wikidocs.net/11"
   ]
  }
 ],
 "metadata": {
  "anaconda-cloud": {},
  "kernelspec": {
   "display_name": "Python 3",
   "language": "python",
   "name": "python3"
  },
  "language_info": {
   "codemirror_mode": {
    "name": "ipython",
    "version": 3
   },
   "file_extension": ".py",
   "mimetype": "text/x-python",
   "name": "python",
   "nbconvert_exporter": "python",
   "pygments_lexer": "ipython3",
   "version": "3.6.1"
  }
 },
 "nbformat": 4,
 "nbformat_minor": 1
}
