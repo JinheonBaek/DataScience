{
 "cells": [
  {
   "cell_type": "markdown",
   "metadata": {},
   "source": [
    "# Let's get some data from Wikipedia!\n",
    "### We'll collect Economy Statistics of Singapore\n",
    "In order to do so, we'll use some libraries like \"Beautiful Soup\" or \"request\".\n",
    "<br>First, let's import libraries"
   ]
  },
  {
   "cell_type": "code",
   "execution_count": 1,
   "metadata": {},
   "outputs": [],
   "source": [
    "from bs4 import BeautifulSoup\n",
    "import requests #"
   ]
  },
  {
   "cell_type": "markdown",
   "metadata": {},
   "source": [
    "### Let's get raw text of Wiki page\n",
    "from https://en.wikipedia.org/wiki/Economy_of_Singapore"
   ]
  },
  {
   "cell_type": "code",
   "execution_count": 2,
   "metadata": {
    "scrolled": true
   },
   "outputs": [
    {
     "name": "stdout",
     "output_type": "stream",
     "text": [
      "283486\n"
     ]
    }
   ],
   "source": [
    "wiki_URL = 'https://en.wikipedia.org/wiki/Economy_of_Singapore'\n",
    "wiki_r=requests.get(wiki_URL)\n",
    "\n",
    "#print wiki_r.text\n",
    "print (len(wiki_r.text))"
   ]
  },
  {
   "cell_type": "markdown",
   "metadata": {},
   "source": [
    "Let's use Beautifull Soup!\n",
    "<br>ref : https://www.crummy.com/software/BeautifulSoup/bs4/doc/"
   ]
  },
  {
   "cell_type": "code",
   "execution_count": 3,
   "metadata": {},
   "outputs": [
    {
     "data": {
      "text/plain": [
       "bs4.BeautifulSoup"
      ]
     },
     "execution_count": 3,
     "metadata": {},
     "output_type": "execute_result"
    }
   ],
   "source": [
    "soup=BeautifulSoup(wiki_r.text, \"lxml\") #lxml for choosing parser \n",
    "type(soup) #this will show you type of given object"
   ]
  },
  {
   "cell_type": "code",
   "execution_count": 4,
   "metadata": {},
   "outputs": [
    {
     "name": "stdout",
     "output_type": "stream",
     "text": [
      "6 <class 'bs4.element.Tag'>\n"
     ]
    }
   ],
   "source": [
    "tables=soup.find_all('table',{'class':'wikitable'})\n",
    "print (len(tables), type(tables[0]))"
   ]
  },
  {
   "cell_type": "code",
   "execution_count": 12,
   "metadata": {},
   "outputs": [
    {
     "name": "stdout",
     "output_type": "stream",
     "text": [
      "<table class=\"wikitable\" style=\"text-align:center;\">\n",
      "<tr>\n",
      "<th colspan=\"8\" style=\"background:lightgrey; color:black; line-height:180%;\">Economy Statistics (Recent Years) : Year 2011 To Year 2014\n",
      "<div style=\"clear:both;\"></div>\n",
      "Sources:<sup class=\"reference\" id=\"cite_ref-34\"><a href=\"#cite_note-34\">[34]</a></sup><sup class=\"reference\" id=\"cite_ref-35\"><a href=\"#cite_note-35\">[35]</a></sup><sup class=\"reference\" id=\"cite_ref-36\"><a href=\"#cite_note-36\">[36]</a></sup><sup class=\"reference\" id=\"cite_ref-37\"><a href=\"#cite_note-37\">[37]</a></sup><sup class=\"reference\" id=\"cite_ref-38\"><a href=\"#cite_note-38\">[38]</a></sup><sup class=\"reference\" id=\"cite_ref-39\"><a href=\"#cite_note-39\">[39]</a></sup><sup class=\"reference\" id=\"cite_ref-40\"><a href=\"#cite_note-40\">[40]</a></sup><sup class=\"reference\" id=\"cite_ref-41\"><a href=\"#cite_note-41\">[41]</a></sup></th>\n",
      "</tr>\n",
      "<tr>\n",
      "<th>Year</th>\n",
      "<th><a class=\"mw-redirect\" href=\"/wiki/Gross_Domestic_Product\" title=\"Gross Domestic Product\">GDP</a>\n",
      "<div style=\"clear:both;\"></div>\n",
      "Nominal\n",
      "<div style=\"clear:both;\"></div>\n",
      "(Billion)</th>\n",
      "<th>GDP\n",
      "<div style=\"clear:both;\"></div>\n",
      "Nominal\n",
      "<div style=\"clear:both;\"></div>\n",
      "Per Capita</th>\n",
      "<th><a class=\"mw-redirect\" href=\"/wiki/Real_Gross_Domestic_Product\" title=\"Real Gross Domestic Product\">GDP Real</a>\n",
      "<div style=\"clear:both;\"></div>\n",
      "(Billion)</th>\n",
      "<th><a class=\"mw-redirect\" href=\"/wiki/Gross_National_Income\" title=\"Gross National Income\">GNI</a>\n",
      "<div style=\"clear:both;\"></div>\n",
      "Nominal\n",
      "<div style=\"clear:both;\"></div>\n",
      "(Billion)</th>\n",
      "<th>GNI\n",
      "<div style=\"clear:both;\"></div>\n",
      "Nominal\n",
      "<div style=\"clear:both;\"></div>\n",
      "Per Capita</th>\n",
      "<th><a class=\"mw-redirect\" href=\"/wiki/Foreign_Reserves\" title=\"Foreign Reserves\">Foreign</a>\n",
      "<div style=\"clear:both;\"></div>\n",
      "Reserves\n",
      "<div style=\"clear:both;\"></div>\n",
      "(Billion)</th>\n",
      "<th>Avg.\n",
      "<div style=\"clear:both;\"></div>\n",
      "Exchange Rate\n",
      "<div style=\"clear:both;\"></div>\n",
      "(1<a href=\"/wiki/United_States_dollar\" title=\"United States dollar\">US$</a> to <a href=\"/wiki/Singapore_dollar\" title=\"Singapore dollar\">S$</a>)</th>\n",
      "</tr>\n",
      "<tr>\n",
      "<td>2011</td>\n",
      "<td><a href=\"/wiki/United_States_dollar\" title=\"United States dollar\">US$</a>275.369\n",
      "<div style=\"clear:both;\"></div>\n",
      "<a href=\"/wiki/Singapore_dollar\" title=\"Singapore dollar\">S$</a>346.353</td>\n",
      "<td><a href=\"/wiki/United_States_dollar\" title=\"United States dollar\">US$</a>53,122\n",
      "<div style=\"clear:both;\"></div>\n",
      "<a href=\"/wiki/Singapore_dollar\" title=\"Singapore dollar\">S$</a>66,816</td>\n",
      "<td><a href=\"/wiki/Singapore_dollar\" title=\"Singapore dollar\">S$</a>342.371</td>\n",
      "<td><a href=\"/wiki/United_States_dollar\" title=\"United States dollar\">US$</a>250.515\n",
      "<div style=\"clear:both;\"></div>\n",
      "<a href=\"/wiki/Singapore_dollar\" title=\"Singapore dollar\">S$</a>338.452</td>\n",
      "<td><a href=\"/wiki/Singapore_dollar\" title=\"Singapore dollar\">S$</a>65,292</td>\n",
      "<td><a href=\"/wiki/United_States_dollar\" title=\"United States dollar\">US$</a>237.737</td>\n",
      "<td><a href=\"/wiki/Singapore_dollar\" title=\"Singapore dollar\">S$</a>1.2573</td>\n",
      "</tr>\n",
      "<tr>\n",
      "<td>2012</td>\n",
      "<td><a href=\"/wiki/United_States_dollar\" title=\"United States dollar\">US$</a>289.941\n",
      "<div style=\"clear:both;\"></div>\n",
      "<a href=\"/wiki/Singapore_dollar\" title=\"Singapore dollar\">S$</a>362.332</td>\n",
      "<td><a href=\"/wiki/United_States_dollar\" title=\"United States dollar\">US$</a>54,578\n",
      "<div style=\"clear:both;\"></div>\n",
      "<a href=\"/wiki/Singapore_dollar\" title=\"Singapore dollar\">S$</a>68,205</td>\n",
      "<td><a href=\"/wiki/Singapore_dollar\" title=\"Singapore dollar\">S$</a>354.061</td>\n",
      "<td><a href=\"/wiki/United_States_dollar\" title=\"United States dollar\">US$</a>273.022\n",
      "<div style=\"clear:both;\"></div>\n",
      "<a href=\"/wiki/Singapore_dollar\" title=\"Singapore dollar\">S$</a>351.765</td>\n",
      "<td><a href=\"/wiki/Singapore_dollar\" title=\"Singapore dollar\">S$</a>66,216</td>\n",
      "<td><a href=\"/wiki/United_States_dollar\" title=\"United States dollar\">US$</a>259.307</td>\n",
      "<td><a href=\"/wiki/Singapore_dollar\" title=\"Singapore dollar\">S$</a>1.2498</td>\n",
      "</tr>\n",
      "<tr>\n",
      "<td>2013</td>\n",
      "<td><a href=\"/wiki/United_States_dollar\" title=\"United States dollar\">US$</a>302.245\n",
      "<div style=\"clear:both;\"></div>\n",
      "<a href=\"/wiki/Singapore_dollar\" title=\"Singapore dollar\">S$</a>378.200</td>\n",
      "<td><a href=\"/wiki/United_States_dollar\" title=\"United States dollar\">US$</a>55,979\n",
      "<div style=\"clear:both;\"></div>\n",
      "<a href=\"/wiki/Singapore_dollar\" title=\"Singapore dollar\">S$</a>70,047</td>\n",
      "<td><a href=\"/wiki/Singapore_dollar\" title=\"Singapore dollar\">S$</a>324.592</td>\n",
      "<td><a href=\"/wiki/United_States_dollar\" title=\"United States dollar\">US$</a>294.692\n",
      "<div style=\"clear:both;\"></div>\n",
      "<a href=\"/wiki/Singapore_dollar\" title=\"Singapore dollar\">S$</a>366.618</td>\n",
      "<td><a href=\"/wiki/Singapore_dollar\" title=\"Singapore dollar\">S$</a>67,902</td>\n",
      "<td><a href=\"/wiki/United_States_dollar\" title=\"United States dollar\">US$</a>273.065</td>\n",
      "<td><a href=\"/wiki/Singapore_dollar\" title=\"Singapore dollar\">S$</a>1.2513</td>\n",
      "</tr>\n",
      "<tr>\n",
      "<td>2014</td>\n",
      "<td><a href=\"/wiki/United_States_dollar\" title=\"United States dollar\">US$</a>308.051\n",
      "<div style=\"clear:both;\"></div>\n",
      "<a href=\"/wiki/Singapore_dollar\" title=\"Singapore dollar\">S$</a>390.089</td>\n",
      "<td><a href=\"/wiki/United_States_dollar\" title=\"United States dollar\">US$</a>56,319\n",
      "<div style=\"clear:both;\"></div>\n",
      "<a href=\"/wiki/Singapore_dollar\" title=\"Singapore dollar\">S$</a>71,318</td>\n",
      "<td><a href=\"/wiki/Singapore_dollar\" title=\"Singapore dollar\">S$</a>380.585</td>\n",
      "<td><a href=\"/wiki/United_States_dollar\" title=\"United States dollar\">US$</a>301.638\n",
      "<div style=\"clear:both;\"></div>\n",
      "<a href=\"/wiki/Singapore_dollar\" title=\"Singapore dollar\">S$</a>378.329</td>\n",
      "<td><a href=\"/wiki/Singapore_dollar\" title=\"Singapore dollar\">S$</a>69,168</td>\n",
      "<td><a href=\"/wiki/United_States_dollar\" title=\"United States dollar\">US$</a>256.860</td>\n",
      "<td><a href=\"/wiki/Singapore_dollar\" title=\"Singapore dollar\">S$</a>1.2671</td>\n",
      "</tr>\n",
      "</table>\n"
     ]
    }
   ],
   "source": [
    "print (tables[0])"
   ]
  },
  {
   "cell_type": "code",
   "execution_count": 6,
   "metadata": {},
   "outputs": [
    {
     "name": "stdout",
     "output_type": "stream",
     "text": [
      "6\n"
     ]
    }
   ],
   "source": [
    "years=tables[0].find_all('tr')\n",
    "print (len(years))"
   ]
  },
  {
   "cell_type": "code",
   "execution_count": 7,
   "metadata": {},
   "outputs": [
    {
     "data": {
      "text/plain": [
       "<td><a href=\"/wiki/United_States_dollar\" title=\"United States dollar\">US$</a>56,319\n",
       "<div style=\"clear:both;\"></div>\n",
       "<a href=\"/wiki/Singapore_dollar\" title=\"Singapore dollar\">S$</a>71,318</td>"
      ]
     },
     "execution_count": 7,
     "metadata": {},
     "output_type": "execute_result"
    }
   ],
   "source": [
    "GDPperCap=years[-1].find_all(\"td\")[2] #years[-1] is same with years[5]\n",
    "GDPperCap"
   ]
  },
  {
   "cell_type": "code",
   "execution_count": 16,
   "metadata": {},
   "outputs": [
    {
     "data": {
      "text/plain": [
       "bs4.element.Tag"
      ]
     },
     "execution_count": 16,
     "metadata": {},
     "output_type": "execute_result"
    }
   ],
   "source": [
    "type(GDPperCap)"
   ]
  },
  {
   "cell_type": "code",
   "execution_count": 8,
   "metadata": {},
   "outputs": [
    {
     "data": {
      "text/plain": [
       "6"
      ]
     },
     "execution_count": 8,
     "metadata": {},
     "output_type": "execute_result"
    }
   ],
   "source": [
    "len(GDPperCap)"
   ]
  },
  {
   "cell_type": "code",
   "execution_count": 9,
   "metadata": {},
   "outputs": [
    {
     "data": {
      "text/plain": [
       "'US$56,319\\n\\nS$71,318'"
      ]
     },
     "execution_count": 9,
     "metadata": {},
     "output_type": "execute_result"
    }
   ],
   "source": [
    "# I will show you dynamic way\n",
    "GpcText=GDPperCap.text\n",
    "GpcText"
   ]
  },
  {
   "cell_type": "code",
   "execution_count": 10,
   "metadata": {},
   "outputs": [
    {
     "name": "stdout",
     "output_type": "stream",
     "text": [
      "<class 'str'>\n"
     ]
    },
    {
     "data": {
      "text/plain": [
       "'US$56,319'"
      ]
     },
     "execution_count": 10,
     "metadata": {},
     "output_type": "execute_result"
    }
   ],
   "source": [
    "print (type(GpcText))\n",
    "GpcText.split(\"\\n\")[0]"
   ]
  },
  {
   "cell_type": "code",
   "execution_count": 11,
   "metadata": {},
   "outputs": [
    {
     "name": "stdout",
     "output_type": "stream",
     "text": [
      "56,319\n",
      "56319 <class 'str'>\n",
      "56319 <class 'int'>\n",
      "Got it!\n"
     ]
    }
   ],
   "source": [
    "print (GpcText.split(\"\\n\")[0][3:])\n",
    "\n",
    "temptxt=GpcText.split(\"\\n\")[0][3:]\n",
    "print (temptxt.replace(',',''),type(temptxt.replace(',','')))\n",
    "\n",
    "GPCint=int(GpcText.split(\"\\n\")[0][3:].replace(',',''))\n",
    "\n",
    "print (GPCint, type(GPCint))\n",
    "print (\"Got it!\")"
   ]
  }
 ],
 "metadata": {
  "kernelspec": {
   "display_name": "Python 3",
   "language": "python",
   "name": "python3"
  },
  "language_info": {
   "codemirror_mode": {
    "name": "ipython",
    "version": 3
   },
   "file_extension": ".py",
   "mimetype": "text/x-python",
   "name": "python",
   "nbconvert_exporter": "python",
   "pygments_lexer": "ipython3",
   "version": "3.6.1"
  }
 },
 "nbformat": 4,
 "nbformat_minor": 1
}
