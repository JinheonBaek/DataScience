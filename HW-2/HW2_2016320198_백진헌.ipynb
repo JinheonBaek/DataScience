{
 "cells": [
  {
   "cell_type": "markdown",
   "metadata": {},
   "source": [
    "# HW2 - Basic Data Processing for Data Mining\n",
    "\n",
    "#### Data Science in Korea University, Prof. Jaewoo Kang\n",
    "#### COSE471, Spring 2018\n",
    "#### Due : 5/24 (Thur)  11:59 AM "
   ]
  },
  {
   "cell_type": "markdown",
   "metadata": {},
   "source": [
    "------------------------------------------\n",
    "## __ Ready for Assingment __\n",
    "-  install [python](https://www.python.org/)\n",
    "\n",
    "- install python\n",
    "     - install [anaconda](https://www.continuum.io/downloads) for science, math, and data analysis.\n",
    "     \n",
    "       The installation process please refer to the __blackboard__.\n",
    "\n",
    "\n",
    "- install libraries\n",
    "     - install libraries\n",
    "         - [NumPy](http://docs.scipy.org/doc/numpy-dev/user/index.html), fot arrays\n",
    "         - [pandas](http://pandas.pydata.org/), for data frames\n",
    "         - [matplotlib](http://matplotlib.org/), for plotting\n",
    "         - [requests](http://docs.python-requests.org/en/latest/), for fetching web content\n",
    "         - [pattern](http://www.clips.ua.ac.be/pages/pattern) or [beautiful soup](http://www.crummy.com/software/BeautifulSoup/bs4/doc/), for parsing html and xml pages\n",
    "         \n",
    "------------------------------------------"
   ]
  },
  {
   "cell_type": "markdown",
   "metadata": {},
   "source": [
    "### CHECK YOUR PYTHON VERSION\n",
    "- #### Assingment made by python 3.x\n",
    "- #### It will be easy for you to use same version with TA"
   ]
  },
  {
   "cell_type": "code",
   "execution_count": 1,
   "metadata": {
    "scrolled": true
   },
   "outputs": [
    {
     "data": {
      "text/plain": [
       "'3.6.1 |Anaconda custom (64-bit)| (default, May 11 2017, 13:25:24) [MSC v.1900 64 bit (AMD64)]'"
      ]
     },
     "execution_count": 1,
     "metadata": {},
     "output_type": "execute_result"
    }
   ],
   "source": [
    "import sys\n",
    "sys.version"
   ]
  },
  {
   "cell_type": "markdown",
   "metadata": {},
   "source": [
    "## Python Assingment HW2 Guide\n",
    "- You need to fill out your code in ###YOUR CODE HERE### or #TODO.\n",
    "- The code results should be the same as the results displayed below the code or the format we gave in problem description.\n",
    "- The necessary libraries are already imported below.\n",
    "    - If you don't have some libraries, install it with pip or conda command. [Google will help you]"
   ]
  },
  {
   "cell_type": "code",
   "execution_count": null,
   "metadata": {
    "collapsed": true
   },
   "outputs": [],
   "source": [
    "%matplotlib inline \n",
    "from bs4 import BeautifulSoup\n",
    "import requests\n",
    "import pandas as pd\n",
    "import numpy as np\n",
    "import matplotlib.pyplot as plt"
   ]
  },
  {
   "cell_type": "markdown",
   "metadata": {},
   "source": [
    "## Problem1. Web Crawling & Processing"
   ]
  },
  {
   "cell_type": "markdown",
   "metadata": {},
   "source": [
    "### Problem 1-1 Fetching the Wikipedia site\n",
    "\n",
    "#### print html code of presented page\n",
    "#### Use requests library\n",
    "> *`<!DOCTYPE html>`*<br/>\n",
    "> *`<html class=\"client-nojs\" lang=\"en\" dir=\"ltr\">`*<br/>\n",
    "> *`<head>`*<br/>\n",
    "> *`<meta charset=\"UTF-8\"/>`*<br/>\n",
    "> *`<title>List of 2016 Summer Olympics medal winners - Wikipedia</title>`*<br/>\n",
    "> *`...`*<br/>\n",
    "> *`</script>`*<br/>\n",
    "> *`</body>`*<br/>\n",
    "> *`</html>`*<br/>"
   ]
  },
  {
   "cell_type": "code",
   "execution_count": null,
   "metadata": {},
   "outputs": [],
   "source": [
    "url = \"https://en.wikipedia.org/wiki/List_of_2016_Summer_Olympics_medal_winners\"\n",
    "\n",
    "###YOUR CODE HERE###\n",
    "data = requests.get(url)\n",
    "print(data.text)"
   ]
  },
  {
   "cell_type": "markdown",
   "metadata": {},
   "source": [
    "### Problem 1-2 Parsing html data\n",
    "#### Data that we are going to use is table titled below:\n",
    "#### Title: Swimming men's events\n",
    "#### Use BeautifulSoup libary\n",
    "\n",
    "*print html code of parsed table: Swimming men's events*\n",
    "\n",
    "> *`<table border=\"\" class=\"class1 class2\" style=\"font-size: 100%\">`*<br/>\n",
    "> *`<tr style=\"text-align: center;\">`*<br/>\n",
    "> *`<th scope=\"col\" style=\"width: 120px;\">Event</th>`*<br/>\n",
    "> *`...`*<br/>\n",
    "> *`</td>`*<br/>\n",
    "> *`</tr>`*<br/>\n",
    "> *`</table>`*<br/>\n",
    "\n",
    "__*hint: class/id can be assigned for elements of html.*__"
   ]
  },
  {
   "cell_type": "code",
   "execution_count": null,
   "metadata": {},
   "outputs": [],
   "source": [
    "#step1: look at html source!\"\n",
    "#step2: get all tables\"\n",
    "#step3: get table we care about\"\n",
    "\n",
    "###YOUR CODE HERE###\n",
    "soup = BeautifulSoup(data.text, \"lxml\")\n",
    "tables = soup.find_all('table', {'class':'wikitable plainrowheaders'})\n",
    "print(tables[36])"
   ]
  },
  {
   "cell_type": "markdown",
   "metadata": {},
   "source": [
    "### Problem 1-3 Extracting data and filling it into a dictionary(Python data stucture)\n",
    "\n",
    "#### Extract  countries and medals from \"Athletics - Women\" table and store it in dictionary.\n",
    "*Please print parsed dictionary at the end of code*\n",
    "\n",
    "#### Shape of Dictionary\n",
    "__Include only once if athlete have received the same medal more than once. ex) 100m gold Bolt, 200m gold Bolt -> gold: Bolt__\n",
    "- { *country_name*: { *medal type*: [*athlete name,* *athlete name,* *athlete name,* ...], ... }}\n",
    "- e.g. {'Jamaica': {'Gold': ['Elaine Thompson', 'Shaunae Miller'...], 'Silver': [...], 'Bronze': [...] }, 'United States': ... }\n",
    "\n",
    "*__hint: Use above problem's code to get Atheletics - Women table__*"
   ]
  },
  {
   "cell_type": "code",
   "execution_count": null,
   "metadata": {
    "collapsed": true
   },
   "outputs": [],
   "source": [
    "# extract headings and actual data and combine data into single dict\n",
    "\n",
    "###YOUR CODE HERE###"
   ]
  },
  {
   "cell_type": "code",
   "execution_count": null,
   "metadata": {},
   "outputs": [],
   "source": [
    "## Get Atheletics Woman Datas\n",
    "atheletics_women = tables[2]\n",
    "print(atheletics_women)"
   ]
  },
  {
   "cell_type": "code",
   "execution_count": null,
   "metadata": {},
   "outputs": [],
   "source": [
    "## Get Medal Infos\n",
    "medals = atheletics_women.find_all(\"th\")[1:]\n",
    "medals = [medal.text for medal in medals]\n",
    "medals"
   ]
  },
  {
   "cell_type": "code",
   "execution_count": null,
   "metadata": {},
   "outputs": [],
   "source": [
    "## Get Medalist Infos\n",
    "medalists = atheletics_women.find_all(\"td\")\n",
    "medalists = [medalist.find_all('a') for medalist in medalists if (len(medalist.find_all('a')) != 0)]\n",
    "\n",
    "for i in range(len(medalists)):\n",
    "    for j in range(len(medalists[i])):\n",
    "        medalists[i][j] = medalists[i][j].text\n",
    "        \n",
    "        if len(medalists[i][j]) == 2:\n",
    "            del medalists[i][j]\n",
    "\n",
    "medalists = [medalists[i] for i in range(len(medalists)) if len(medalists[i]) != 0]\n",
    "medalists"
   ]
  },
  {
   "cell_type": "code",
   "execution_count": null,
   "metadata": {
    "collapsed": true
   },
   "outputs": [],
   "source": [
    "## Split Medalists using medal type\n",
    "gold_medalists = [medalists[i] for i in range(1, len(medalists), 4)]\n",
    "silver_medalists = [medalists[i] for i in range(2, len(medalists), 4)]\n",
    "bronze_medalists = [medalists[i] for i in range(3, len(medalists), 4)]\n",
    "medalists = [gold_medalists, silver_medalists, bronze_medalists]"
   ]
  },
  {
   "cell_type": "code",
   "execution_count": null,
   "metadata": {
    "collapsed": true
   },
   "outputs": [],
   "source": [
    "atheletics_women_medalists = {}"
   ]
  },
  {
   "cell_type": "code",
   "execution_count": null,
   "metadata": {
    "collapsed": true
   },
   "outputs": [],
   "source": [
    "## Using Medal and Medalists Infos, Fill dict\n",
    "for i in range(3):\n",
    "    for medalist in medalists[i]:\n",
    "        if len(medalist) == 2:\n",
    "            if medalist[1] in atheletics_women_medalists and medals[i] in atheletics_women_medalists[medalist[1]]:\n",
    "                atheletics_women_medalists[medalist[1]][medals[i]].append(medalist[0])\n",
    "            else:\n",
    "                if medalist[1] in atheletics_women_medalists:\n",
    "                    atheletics_women_medalists[medalist[1]][medals[i]] = [medalist[0]]\n",
    "                else:\n",
    "                    atheletics_women_medalists[medalist[1]] = {medals[i]: [medalist[0]]}\n",
    "        else:\n",
    "            if medalist[0] in atheletics_women_medalists and medals[i] in atheletics_women_medalists[medalist[0]]:\n",
    "                atheletics_women_medalists[medalist[0]][medals[i]].extend(medalist[1:])\n",
    "            else:\n",
    "                if medalist[0] in atheletics_women_medalists:\n",
    "                    atheletics_women_medalists[medalist[0]][medals[i]] = medalist[1:]\n",
    "                else:\n",
    "                    atheletics_women_medalists[medalist[0]] = {medals[i]: medalist[1:]}"
   ]
  },
  {
   "cell_type": "code",
   "execution_count": null,
   "metadata": {
    "collapsed": true
   },
   "outputs": [],
   "source": [
    "## Delete Duplicate Data\n",
    "for country in atheletics_women_medalists:\n",
    "    for medal in medals:\n",
    "        if medal in atheletics_women_medalists[country]:\n",
    "            atheletics_women_medalists[country][medal] = list(set(atheletics_women_medalists[country][medal]))"
   ]
  },
  {
   "cell_type": "code",
   "execution_count": null,
   "metadata": {},
   "outputs": [],
   "source": [
    "atheletics_women_medalists"
   ]
  },
  {
   "cell_type": "markdown",
   "metadata": {},
   "source": [
    "### Problem 1-4 Creating a dataframe(Python data structure) from a dictionary\n",
    "\n",
    "#### Use Dictionary that you made in problem 1-3\n",
    "\n",
    "#### Use Pandas library\n",
    "\n",
    "__* Shape of dataframe must be like following table.__\n",
    "<table>\n",
    "  <tr>\n",
    "    <th></th>\n",
    "    <th>Gold</th>\n",
    "    <th>Silver</th>\n",
    "    <th>Bronze</th>\n",
    "  </tr>\n",
    "  <tr>\n",
    "    <td>Jamaica</td>\n",
    "    <td>Elaine Thompson, Shaunae Miller ... </td>\n",
    "    <td>&nbsp;&nbsp;&nbsp;&nbsp;&nbsp;&nbsp;&nbsp;...&nbsp;&nbsp;&nbsp;&nbsp;&nbsp;&nbsp;</td>\n",
    "    <td>&nbsp;&nbsp;&nbsp;&nbsp;&nbsp;&nbsp;&nbsp;...&nbsp;&nbsp;&nbsp;&nbsp;&nbsp;&nbsp;</td>\n",
    "  </tr>\n",
    "  <tr>\n",
    "    <td>United States</td>\n",
    "    <td>&nbsp;&nbsp;&nbsp;&nbsp;&nbsp;&nbsp;&nbsp;...&nbsp;&nbsp;&nbsp;&nbsp;&nbsp;&nbsp;</td>\n",
    "    <td>&nbsp;&nbsp;&nbsp;&nbsp;&nbsp;&nbsp;&nbsp;...&nbsp;&nbsp;&nbsp;&nbsp;&nbsp;&nbsp;</td>\n",
    "    <td>&nbsp;&nbsp;&nbsp;&nbsp;&nbsp;&nbsp;&nbsp;...&nbsp;&nbsp;&nbsp;&nbsp;&nbsp;&nbsp;</td>\n",
    "  </tr>\n",
    "  <tr>\n",
    "    <td>&nbsp;&nbsp;&nbsp;&nbsp;&nbsp;&nbsp;&nbsp;...&nbsp;&nbsp;&nbsp;&nbsp;&nbsp;&nbsp;</td>\n",
    "    <td>&nbsp;&nbsp;&nbsp;&nbsp;&nbsp;&nbsp;&nbsp;...&nbsp;&nbsp;&nbsp;&nbsp;&nbsp;&nbsp;</td>\n",
    "    <td>&nbsp;&nbsp;&nbsp;&nbsp;&nbsp;&nbsp;&nbsp;...&nbsp;&nbsp;&nbsp;&nbsp;&nbsp;&nbsp;</td>\n",
    "    <td>&nbsp;&nbsp;&nbsp;&nbsp;&nbsp;&nbsp;&nbsp;...&nbsp;&nbsp;&nbsp;&nbsp;&nbsp;&nbsp;</td>\n",
    "  </tr>\n",
    "</table>"
   ]
  },
  {
   "cell_type": "code",
   "execution_count": null,
   "metadata": {},
   "outputs": [],
   "source": [
    "# create dataframe\n",
    "# Use the following code\n",
    "# indices: countries, columns: Medal type\n",
    "\n",
    "###YOUR CODE HERE###\n",
    "df = pd.DataFrame.from_dict(atheletics_women_medalists, orient='index')\n",
    "df"
   ]
  },
  {
   "cell_type": "markdown",
   "metadata": {},
   "source": [
    "### Problem 1-5 Sort Data Frame\n",
    "### Sort Country names by number of Gold medal athletes (Descending order)\n",
    "- __Show in table form (e.g. pd.DataFrame.describe())__\n",
    "<table>\n",
    "  <tr>\n",
    "    <th></th>\n",
    "    <th>Gold</th>\n",
    "    <th>Silver</th>\n",
    "    <th>Bronze</th>\n",
    "  </tr>\n",
    "  <tr>\n",
    "    <td>Jamaica</td>\n",
    "    <td>Elaine Thompson, Shaunae Miller ... </td>\n",
    "    <td>&nbsp;&nbsp;&nbsp;&nbsp;&nbsp;&nbsp;&nbsp;...&nbsp;&nbsp;&nbsp;&nbsp;&nbsp;&nbsp;</td>\n",
    "    <td>&nbsp;&nbsp;&nbsp;&nbsp;&nbsp;&nbsp;&nbsp;...&nbsp;&nbsp;&nbsp;&nbsp;&nbsp;&nbsp;</td>\n",
    "  </tr>\n",
    "  <tr>\n",
    "    <td>United States</td>\n",
    "    <td>&nbsp;&nbsp;&nbsp;&nbsp;&nbsp;&nbsp;&nbsp;...&nbsp;&nbsp;&nbsp;&nbsp;&nbsp;&nbsp;</td>\n",
    "    <td>&nbsp;&nbsp;&nbsp;&nbsp;&nbsp;&nbsp;&nbsp;...&nbsp;&nbsp;&nbsp;&nbsp;&nbsp;&nbsp;</td>\n",
    "    <td>&nbsp;&nbsp;&nbsp;&nbsp;&nbsp;&nbsp;&nbsp;...&nbsp;&nbsp;&nbsp;&nbsp;&nbsp;&nbsp;</td>\n",
    "  </tr>\n",
    "  <tr>\n",
    "    <td>&nbsp;&nbsp;&nbsp;&nbsp;&nbsp;&nbsp;&nbsp;...&nbsp;&nbsp;&nbsp;&nbsp;&nbsp;&nbsp;</td>\n",
    "    <td>&nbsp;&nbsp;&nbsp;&nbsp;&nbsp;&nbsp;&nbsp;...&nbsp;&nbsp;&nbsp;&nbsp;&nbsp;&nbsp;</td>\n",
    "    <td>&nbsp;&nbsp;&nbsp;&nbsp;&nbsp;&nbsp;&nbsp;...&nbsp;&nbsp;&nbsp;&nbsp;&nbsp;&nbsp;</td>\n",
    "    <td>&nbsp;&nbsp;&nbsp;&nbsp;&nbsp;&nbsp;&nbsp;...&nbsp;&nbsp;&nbsp;&nbsp;&nbsp;&nbsp;</td>\n",
    "  </tr>\n",
    "</table>"
   ]
  },
  {
   "cell_type": "code",
   "execution_count": null,
   "metadata": {
    "collapsed": true
   },
   "outputs": [],
   "source": [
    "###YOUR CODE HERE###\n",
    "\n",
    "## Get Gold_count\n",
    "tmp = df['Gold'].fillna('0')\n",
    "Gold_count = []\n",
    "for i in tmp:\n",
    "    if i is not '0':\n",
    "        Gold_count.append(len(i))\n",
    "    else:\n",
    "        Gold_count.append(0)"
   ]
  },
  {
   "cell_type": "code",
   "execution_count": null,
   "metadata": {
    "collapsed": true
   },
   "outputs": [],
   "source": [
    "## Insert Gold_count in df\n",
    "df.insert(loc = 3, column = 'count', value = Gold_count)"
   ]
  },
  {
   "cell_type": "code",
   "execution_count": null,
   "metadata": {
    "collapsed": true
   },
   "outputs": [],
   "source": [
    "## Sort df using Gold_count\n",
    "df.sort_values(by='count', ascending=False, inplace=True)"
   ]
  },
  {
   "cell_type": "code",
   "execution_count": null,
   "metadata": {
    "collapsed": true
   },
   "outputs": [],
   "source": [
    "## Delete Gold_count column that is unused\n",
    "del df['count']"
   ]
  },
  {
   "cell_type": "code",
   "execution_count": null,
   "metadata": {},
   "outputs": [],
   "source": [
    "df"
   ]
  },
  {
   "cell_type": "markdown",
   "metadata": {},
   "source": [
    "### Problem 1-6 Handle Data Frame\n",
    "### Which country has the most bronze medals in Atheletics - Women? \n",
    "- __Make sub data frame__\n",
    "- __Show in table form (e.g. pd.DataFrame.describe())__\n",
    "<table>\n",
    "  <tr>\n",
    "    <th></th>\n",
    "    <th>Bronze</th>\n",
    "  </tr>\n",
    "  <tr>\n",
    "    <td>United States</td>\n",
    "    <td>Tori Bowie ...</td>\n",
    "</table>"
   ]
  },
  {
   "cell_type": "code",
   "execution_count": null,
   "metadata": {
    "collapsed": true
   },
   "outputs": [],
   "source": [
    "###YOUR CODE HERE###\n",
    "\n",
    "## Get bronze_count\n",
    "tmp = df['Bronze'].fillna('0')\n",
    "Bronze_count = []\n",
    "for i in tmp:\n",
    "    if i is not '0':\n",
    "        Bronze_count.append(len(i))\n",
    "    else:\n",
    "        Bronze_count.append(0)"
   ]
  },
  {
   "cell_type": "code",
   "execution_count": null,
   "metadata": {
    "collapsed": true
   },
   "outputs": [],
   "source": [
    "## Insert Bronze_count in df\n",
    "df.insert(loc = 3, column = 'Bronze_count', value = Bronze_count)"
   ]
  },
  {
   "cell_type": "code",
   "execution_count": null,
   "metadata": {
    "collapsed": true
   },
   "outputs": [],
   "source": [
    "## Sort df using Bronze_count\n",
    "df.sort_values(by='Bronze_count', ascending=False, inplace=True)"
   ]
  },
  {
   "cell_type": "code",
   "execution_count": null,
   "metadata": {},
   "outputs": [],
   "source": [
    "pd.DataFrame(df['Bronze'])[:1]"
   ]
  },
  {
   "cell_type": "markdown",
   "metadata": {},
   "source": [
    "## Project Problem 1\n",
    "- __URL : https://en.wikipedia.org/wiki/List_of_Intel_microprocessors __\n",
    "- __Crawl \"7th generation Core/Kaby Lake/Skylake (X-series Processors)/Apollo Lake - desktop\" table in given URL__\n",
    "- __Make data frame same as in wiki page with cralwed table (Show in table form)__\n",
    "- __Sort model name by \"Base Frequency\" (Show in table form)__ "
   ]
  },
  {
   "cell_type": "code",
   "execution_count": null,
   "metadata": {
    "collapsed": true
   },
   "outputs": [],
   "source": [
    "###YOUR CODE HERE###\n",
    "\n",
    "## Get Wiki Data\n",
    "url = \"https://en.wikipedia.org/wiki/List_of_Intel_microprocessors\"\n",
    "\n",
    "data = requests.get(url)\n",
    "soup = BeautifulSoup(data.text, \"lxml\")"
   ]
  },
  {
   "cell_type": "code",
   "execution_count": null,
   "metadata": {},
   "outputs": [],
   "source": [
    "###YOUR CODE HERE###\n",
    "\n",
    "## Get Table\n",
    "tables = soup.find_all('table', {'class':'wikitable sortable'})\n",
    "table = tables[2]\n",
    "table"
   ]
  },
  {
   "cell_type": "code",
   "execution_count": null,
   "metadata": {},
   "outputs": [],
   "source": [
    "## Get Table Attributes\n",
    "attributes = table.find_all(\"tr\")[0].find_all(\"th\")\n",
    "attributes = [attribute.text for attribute in attributes]\n",
    "attributes"
   ]
  },
  {
   "cell_type": "code",
   "execution_count": null,
   "metadata": {},
   "outputs": [],
   "source": [
    "## Get Table Records\n",
    "records = table.find_all(\"tr\")[1:]\n",
    "records = [record.find_all(\"td\") for record in records]\n",
    "records = [[record.text for record in records[i]] for i in range(len(records))]\n",
    "records"
   ]
  },
  {
   "cell_type": "code",
   "execution_count": null,
   "metadata": {},
   "outputs": [],
   "source": [
    "###YOUR CODE HERE###\n",
    "\n",
    "## Make DataFrame\n",
    "df = pd.DataFrame(records, columns = attributes)\n",
    "df"
   ]
  },
  {
   "cell_type": "code",
   "execution_count": null,
   "metadata": {},
   "outputs": [],
   "source": [
    "###YOUR CODE HERE###\n",
    "\n",
    "## Sort by base frequency\n",
    "df.sort_values(by='Base frequency (GHz)', ascending=True, inplace=True)\n",
    "df"
   ]
  },
  {
   "cell_type": "code",
   "execution_count": null,
   "metadata": {},
   "outputs": [],
   "source": [
    "###YOUR CODE HERE###\n",
    "\n",
    "## Show model name sorted by Base Frequency\n",
    "pd.DataFrame(df['Model'])"
   ]
  },
  {
   "cell_type": "markdown",
   "metadata": {},
   "source": [
    "## Problem2. Processing Data with Data Frame"
   ]
  },
  {
   "cell_type": "markdown",
   "metadata": {},
   "source": [
    "### Fetching data from tsv(tab-separated values)\n",
    "We will give you GDP per capita in tsv format.\n",
    "(Gross domestic product per capita, current prices in USD; International Monetary Fund, World Economic Outlook Database, October 2016) \n",
    "\n",
    "What you have to do is read data from tsv, put it in pandas dataframe, manipulate data so that it is ready for analyse."
   ]
  },
  {
   "cell_type": "code",
   "execution_count": null,
   "metadata": {},
   "outputs": [],
   "source": [
    "tsv = pd.read_csv('GDPperCapByTab.txt',sep='\\t',index_col=0) \n",
    "# this will let you read data from file name ~~ , and understand <tab> as delimiter\n",
    "\n",
    "tsv # You can check whether data is correctly loaded in your df(;tsv) or not"
   ]
  },
  {
   "cell_type": "markdown",
   "metadata": {},
   "source": [
    "### Problem 2-1 Data Cleaning\n",
    "1. Drop everything but \"name of country\" and \"data by year(1980 ~ 2010)\".\n",
    "2. Modify data so that you can change it to float type number. (For example, u'1,421.84' can not be changed to float while \",\" exists.) 'NaN' can be changed to np.nan.\n",
    "<br><b>Hint, you can change type of whole data to float in one instuction if your data is in good format. </b>"
   ]
  },
  {
   "cell_type": "code",
   "execution_count": null,
   "metadata": {
    "collapsed": true
   },
   "outputs": [],
   "source": [
    "###YOUR CODE HERE###\n",
    "\n",
    "#TODO: Drop everything but \"name of country\" and \"data by year(1980 ~ 2010)\".\n",
    "tsv.drop(columns = ['Subject Descriptor', 'Units', 'Scale', 'Country/Series-specific Notes', '2011', '2012', '2013', '2014', '2015', 'Estimates Start After'], inplace = True)\n",
    "\n",
    "#TODO: modify data suitable to change data type, like n/a to np.nan, etcs\n",
    "tsv.fillna(np.nan, inplace = True)"
   ]
  },
  {
   "cell_type": "code",
   "execution_count": null,
   "metadata": {
    "collapsed": true
   },
   "outputs": [],
   "source": [
    "drop_index = []\n",
    "\n",
    "#TODO: modify data type as float type\n",
    "for columnNum in [str(num) for num in range(1980, 2011)]:\n",
    "    for i in range(len(tsv[columnNum])):\n",
    "        if isinstance(tsv[columnNum][i], str):\n",
    "            tsv[columnNum][i] = np.float(tsv[columnNum][i].replace(',', ''))\n",
    "        else:\n",
    "            drop_index.append(tsv.index[i])\n",
    "\n",
    "## Delete Nan rows\n",
    "drop_index = list(set(drop_index))\n",
    "tsv.drop(drop_index, inplace = True)"
   ]
  },
  {
   "cell_type": "code",
   "execution_count": null,
   "metadata": {},
   "outputs": [],
   "source": [
    "tsv"
   ]
  },
  {
   "cell_type": "code",
   "execution_count": null,
   "metadata": {},
   "outputs": [],
   "source": [
    "print(tsv.index[0],tsv.iloc[0,0], type(tsv.ix[0,0]))"
   ]
  },
  {
   "cell_type": "markdown",
   "metadata": {},
   "source": [
    "### Problem 2-2 Data  Grouping\n",
    "### Get median value by country of each 5 years from 1980 to 2010\n",
    "- __Condition 1 : Data should be in \"int\" type (numpy.int64 or else)__ \n",
    "- __Condition 2 : Dataframe should be in the form of given output (two cells below)__"
   ]
  },
  {
   "cell_type": "code",
   "execution_count": null,
   "metadata": {
    "collapsed": true,
    "scrolled": true
   },
   "outputs": [],
   "source": [
    "resulttsv = tsv\n",
    "# Think wisely! It does not require long code. For me, 3 lines were enough. You can do it :)\n",
    "\n",
    "###YOUR CODE HERE###\n",
    "\n",
    "## Data -> Int type\n",
    "resulttsv = resulttsv.astype('int64')\n",
    "\n",
    "## ColumnNums\n",
    "columnNums = [\n",
    "['1980', '1981', '1982', '1983', '1984', '1985'],\n",
    "['1985', '1986', '1987', '1988', '1989', '1990'],\n",
    "['1990', '1991', '1992', '1993', '1994', '1995'],\n",
    "['1995', '1996', '1997', '1998', '1999', '2000'],\n",
    "['2000', '2001', '2002', '2003', '2004', '2005'],\n",
    "['2005', '2006', '2007', '2008', '2009', '2010']\n",
    "]\n",
    "\n",
    "## Get Median value by country of each 5 years\n",
    "for columnNum in columnNums:\n",
    "    resulttsv[str(columnNum[0]) + '-' + str(columnNum[-1])] = resulttsv[columnNum].median(axis = 'columns')\n",
    "    resulttsv.drop(columnNum[:5], 1, inplace = True)\n",
    "resulttsv.drop('2010', 1, inplace = True)\n",
    "\n",
    "## Data -> Int type\n",
    "resulttsv = resulttsv.astype('int64')"
   ]
  },
  {
   "cell_type": "code",
   "execution_count": null,
   "metadata": {},
   "outputs": [],
   "source": [
    "print(resulttsv.index[1],resulttsv.ix[1,0],type(resulttsv.ix[1,0]))\n",
    "resulttsv.head()"
   ]
  },
  {
   "cell_type": "markdown",
   "metadata": {},
   "source": [
    "### Problem 2-3 Data  Filtering\n",
    "### Filter Rows Where Median Value(1995 - 2000) Is Greater Than 10000\n",
    "- __Hint, If you are not familiar with data filtering using pandas.dataframe, Please refer to the following link below  . __\n",
    "    - __https://pythonspot.com/pandas-filter/__"
   ]
  },
  {
   "cell_type": "code",
   "execution_count": null,
   "metadata": {
    "collapsed": true
   },
   "outputs": [],
   "source": [
    "###YOUR CODE HERE###\n",
    "filtered_tsv = resulttsv[(resulttsv['1995-2000'] > 10000)]"
   ]
  },
  {
   "cell_type": "code",
   "execution_count": null,
   "metadata": {},
   "outputs": [],
   "source": [
    "print(filtered_tsv.index[1],filtered_tsv.ix[1,0],type(filtered_tsv.ix[1,0]))\n",
    "filtered_tsv.head()"
   ]
  },
  {
   "cell_type": "markdown",
   "metadata": {},
   "source": [
    "### Problem 2-4 Get Infant Mortality rate\n",
    "\n",
    "### We need data from 1980-2010. Drop data which is not necessary\n"
   ]
  },
  {
   "cell_type": "code",
   "execution_count": null,
   "metadata": {
    "collapsed": true
   },
   "outputs": [],
   "source": [
    "IMtsv = pd.read_csv('InfantMortalityByTab.txt',sep='\\t',index_col=0)\n",
    "###YOUR CODE HERE###"
   ]
  },
  {
   "cell_type": "code",
   "execution_count": null,
   "metadata": {},
   "outputs": [],
   "source": [
    "IMtsv.index"
   ]
  },
  {
   "cell_type": "code",
   "execution_count": null,
   "metadata": {
    "collapsed": true
   },
   "outputs": [],
   "source": [
    "columnNames = [str(x) + '-' + str(x+5) for x in range(1980, 2010, 5)]\n",
    "DroppedIMtsv = IMtsv[columnNames]"
   ]
  },
  {
   "cell_type": "code",
   "execution_count": null,
   "metadata": {},
   "outputs": [],
   "source": [
    "DroppedIMtsv.head()"
   ]
  },
  {
   "cell_type": "markdown",
   "metadata": {},
   "source": [
    "## Problem3. Draw data as a plot\n",
    "\n",
    "### Problem 3-1 Define a function to draw catter plot which contained trendline.\n",
    "#### use .scatter from matplotlib library.\n",
    "- please print *<b>line equation</b>* and *<b>MSE(mean squared error)</b>* for each plots\n",
    "- matplotlib.pyplot.scatter: http://matplotlib.org/api/pyplot_api.html?highlight=scatter#matplotlib.pyplot.scatter\n",
    "- you can find example of trendline on matplotlib very easily."
   ]
  },
  {
   "cell_type": "code",
   "execution_count": null,
   "metadata": {},
   "outputs": [],
   "source": [
    "def plot_2D_trendline(x_data, y_data, pred=None, x_label='X', y_label='Y', title=None):\n",
    "    plt.xlabel(x_label)\n",
    "    plt.ylabel(y_label)\n",
    "    plt.scatter(x_data, y_data)\n",
    "    \n",
    "    if pred is not None:\n",
    "        plt.plot(x_data, pred, color='red', linewidth=2)\n",
    "    if title is not None:\n",
    "        plt.title(title)\n",
    "    \n",
    "    # the line equation:\n",
    "    a, b = np.polyfit(x_data, y_data, 1)\n",
    "    p = np.poly1d([a, b])\n",
    "    plt.plot(x_data, p(x_data),\"r--\")\n",
    "    print (\"y=%.6fx+(%.6f)\" % (a, b))\n",
    "    \n",
    "    #print Mean Squared Error\n",
    "    mse = np.square(np.subtract(y_data, p(x_data))).mean()\n",
    "    print (\"MeanSquaredError: \", mse)\n",
    "    \n",
    "    plt.show()\n",
    "\n",
    "# Let's see if the function works.\n",
    "plot_2D_trendline(np.random.randint(1000,size=100),np.random.randint(1000,size=100))"
   ]
  },
  {
   "cell_type": "markdown",
   "metadata": {},
   "source": [
    "### Problem 3-2 Draw scatter plot and trendline by using infant mortality rate and GDP per capita\n",
    "- x-axis: *GDP per cap*, y-axis: *infant mortality*\n",
    "- one plot per 5-year period (total 7 plots)\n",
    "- The trend line may seem somewhat meaningless, but it isn't problem now."
   ]
  },
  {
   "cell_type": "code",
   "execution_count": null,
   "metadata": {},
   "outputs": [],
   "source": [
    "for country in DroppedIMtsv.index:\n",
    "    if country not in resulttsv.index:\n",
    "        DroppedIMtsv.drop(country, inplace = True)\n",
    "\n",
    "for country in resulttsv.index:\n",
    "    if country not in DroppedIMtsv.index:\n",
    "        resulttsv.drop(country, inplace = True)"
   ]
  },
  {
   "cell_type": "code",
   "execution_count": null,
   "metadata": {},
   "outputs": [],
   "source": [
    "DroppedIMtsv.head()"
   ]
  },
  {
   "cell_type": "code",
   "execution_count": null,
   "metadata": {},
   "outputs": [],
   "source": [
    "resulttsv.head()"
   ]
  },
  {
   "cell_type": "code",
   "execution_count": null,
   "metadata": {},
   "outputs": [],
   "source": [
    "for years in DroppedIMtsv.columns:\n",
    "    xData=np.array(resulttsv[years])\n",
    "    yData=np.array(DroppedIMtsv[years])\n",
    "    \n",
    "    #TODO\n",
    "    plot_2D_trendline(xData, yData, x_label='GDP per Cap', y_label='Infant Mortality', title=years)"
   ]
  },
  {
   "cell_type": "markdown",
   "metadata": {},
   "source": [
    "### Problem 3-3 Let's make trend line meaningful.\n",
    "- As mentioned, the trend line is somewhat meaningless.\n",
    "- By applying a *<b>logarithmic scale</b>* on the data, you can make trendlines more meaningful.\n",
    "<br/>    ** hint: Most of mathmetical functions in python can be found in numpy.*"
   ]
  },
  {
   "cell_type": "code",
   "execution_count": null,
   "metadata": {},
   "outputs": [],
   "source": [
    "for years in DroppedIMtsv.columns:\n",
    "    xData=np.array(resulttsv[years])\n",
    "    yData=np.array(DroppedIMtsv[years])\n",
    "    \n",
    "    #TODO\n",
    "    xDataLog = np.log(xData)\n",
    "    yDataLog = np.log(yData)\n",
    "    plot_2D_trendline(xDataLog, yDataLog, x_label='GDP per Cap(Log Scale)', y_label='Infant Mortality (Log Scale)', title=years+\" (Log Scale)\")"
   ]
  },
  {
   "cell_type": "markdown",
   "metadata": {},
   "source": [
    "## Project Problem 2&3\n",
    "- __Read Data forestfires.csv. Keep it mind this data is not tsv!__\n",
    "- __Sorting & Filtering Data, each sub questions are independent, not related to each other. __\n",
    "    - Filter rows which event occured in 1st quarter (January to April).\n",
    "    - Filter rows where area is greater than average area value, and report average value also.\n",
    "    - Sort descending order by FFMC value which event occured in Friday.\n",
    "- __Draw plot with following directions, each sub questions are independent, not related to each other.__\n",
    "    - Draw plot only using X, Y value, so we can know which part of park frequently fired.\n",
    "    - Draw plot only using temp and wind, so we can know the relation between two features. Also draw trend line.\n",
    "    - Draw plot only using temp and RH, so we can know the relation between two features. Also draw trend line.\n",
    "    - Draw plot only using wind and RH, so we can know the relation between two features. Also draw trend line."
   ]
  },
  {
   "cell_type": "code",
   "execution_count": null,
   "metadata": {
    "collapsed": true
   },
   "outputs": [],
   "source": [
    "###YOUR CODE HERE###"
   ]
  },
  {
   "cell_type": "code",
   "execution_count": null,
   "metadata": {
    "collapsed": true
   },
   "outputs": [],
   "source": [
    "FF = pd.read_csv('forestfires.csv')"
   ]
  },
  {
   "cell_type": "code",
   "execution_count": null,
   "metadata": {},
   "outputs": [],
   "source": [
    "FF.head()"
   ]
  },
  {
   "cell_type": "code",
   "execution_count": null,
   "metadata": {
    "collapsed": true
   },
   "outputs": [],
   "source": [
    "filtered_month = ['jan', 'feb', 'mar', 'apr']"
   ]
  },
  {
   "cell_type": "code",
   "execution_count": null,
   "metadata": {
    "collapsed": true
   },
   "outputs": [],
   "source": [
    "for month in filtered_month:\n",
    "    FF = FF[FF.month != month]"
   ]
  },
  {
   "cell_type": "code",
   "execution_count": null,
   "metadata": {
    "collapsed": true
   },
   "outputs": [],
   "source": [
    "###YOUR CODE HERE###"
   ]
  },
  {
   "cell_type": "code",
   "execution_count": null,
   "metadata": {
    "collapsed": true
   },
   "outputs": [],
   "source": [
    "FF = pd.read_csv('forestfires.csv')"
   ]
  },
  {
   "cell_type": "code",
   "execution_count": null,
   "metadata": {},
   "outputs": [],
   "source": [
    "FF_area_mean = FF['area'].mean()\n",
    "FF_area_mean"
   ]
  },
  {
   "cell_type": "code",
   "execution_count": null,
   "metadata": {
    "collapsed": true
   },
   "outputs": [],
   "source": [
    "FF = FF[FF.area > FF_area_mean]"
   ]
  },
  {
   "cell_type": "code",
   "execution_count": null,
   "metadata": {},
   "outputs": [],
   "source": [
    "FF.head()"
   ]
  },
  {
   "cell_type": "code",
   "execution_count": null,
   "metadata": {
    "collapsed": true
   },
   "outputs": [],
   "source": [
    "###YOUR CODE HERE###"
   ]
  },
  {
   "cell_type": "code",
   "execution_count": null,
   "metadata": {
    "collapsed": true
   },
   "outputs": [],
   "source": [
    "FF = pd.read_csv('forestfires.csv')"
   ]
  },
  {
   "cell_type": "code",
   "execution_count": null,
   "metadata": {
    "collapsed": true
   },
   "outputs": [],
   "source": [
    "FF = FF[FF.day == 'fri']"
   ]
  },
  {
   "cell_type": "code",
   "execution_count": null,
   "metadata": {
    "collapsed": true
   },
   "outputs": [],
   "source": [
    "FF.sort_values(by = 'FFMC', ascending = False, inplace = True)"
   ]
  },
  {
   "cell_type": "code",
   "execution_count": null,
   "metadata": {},
   "outputs": [],
   "source": [
    "FF.head()"
   ]
  },
  {
   "cell_type": "code",
   "execution_count": null,
   "metadata": {
    "collapsed": true
   },
   "outputs": [],
   "source": [
    "###YOUR CODE HERE###"
   ]
  },
  {
   "cell_type": "code",
   "execution_count": null,
   "metadata": {
    "collapsed": true
   },
   "outputs": [],
   "source": [
    "FF = pd.read_csv('forestfires.csv')"
   ]
  },
  {
   "cell_type": "code",
   "execution_count": null,
   "metadata": {},
   "outputs": [],
   "source": [
    "plt.scatter(FF['X'], FF['Y'])"
   ]
  },
  {
   "cell_type": "code",
   "execution_count": null,
   "metadata": {},
   "outputs": [],
   "source": [
    "###YOUR CODE HERE###\n",
    "plot_2D_trendline(FF['temp'], FF['wind'], x_label='temp', y_label='wind')"
   ]
  },
  {
   "cell_type": "code",
   "execution_count": null,
   "metadata": {},
   "outputs": [],
   "source": [
    "###YOUR CODE HERE###\n",
    "plot_2D_trendline(FF['temp'], FF['RH'], x_label='temp', y_label='RH')"
   ]
  },
  {
   "cell_type": "code",
   "execution_count": null,
   "metadata": {},
   "outputs": [],
   "source": [
    "###YOUR CODE HERE###\n",
    "plot_2D_trendline(FF['wind'], FF['RH'], x_label='wind', y_label='RH')"
   ]
  },
  {
   "cell_type": "markdown",
   "metadata": {},
   "source": [
    "# FINISH"
   ]
  }
 ],
 "metadata": {
  "kernelspec": {
   "display_name": "Python 3",
   "language": "python",
   "name": "python3"
  },
  "language_info": {
   "codemirror_mode": {
    "name": "ipython",
    "version": 3
   },
   "file_extension": ".py",
   "mimetype": "text/x-python",
   "name": "python",
   "nbconvert_exporter": "python",
   "pygments_lexer": "ipython3",
   "version": "3.6.1"
  }
 },
 "nbformat": 4,
 "nbformat_minor": 1
}
