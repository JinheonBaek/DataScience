{
 "cells": [
  {
   "cell_type": "markdown",
   "metadata": {},
   "source": [
    "# HW3 - Data Analysis & Make Prediction Models\n",
    "\n",
    "#### Data Science in Korea University, Prof. Jaewoo Kang\n",
    "#### COSE471, Spring 2018\n",
    "#### Due : 6/12 (Tues)  11:59 AM [Before Class Start]"
   ]
  },
  {
   "cell_type": "markdown",
   "metadata": {},
   "source": [
    "## Notice Class schedule\n",
    "<table>\n",
    "  <tr>\n",
    "    <th>Date</th>\n",
    "    <th>Desc.</th>\n",
    "  <tr>\n",
    "    <td>5/29</td>\n",
    "    <td>MID-TERM EXAM & HW#3 Start Date</td>\n",
    "  </tr>\n",
    "  <tr>\n",
    "    <td>5/31</td>\n",
    "    <td>HW#2 Late Hand-In Due Date</td>\n",
    "  </tr>\n",
    "  <tr>\n",
    "    <td>6/12</td>\n",
    "    <td>HW#3 Due Date & HW#4(Project) Start Date</td>\n",
    "  </tr>\n",
    "  <tr>\n",
    "    <td>6/19</td>\n",
    "    <td>HW#3 Late Hand-In Due Date</td>\n",
    "  </tr>\n",
    "  <tr>\n",
    "    <td>6/21</td>\n",
    "    <td>FINAL EXAM(NOT FIXED)</td>\n",
    "  </tr>\n",
    "  <tr>\n",
    "    <td>6/26</td>\n",
    "    <td>HW#4(Project) Due Date(NO LATE HAND-IN)</td>\n",
    "  </tr>\n",
    "</table>"
   ]
  },
  {
   "cell_type": "markdown",
   "metadata": {},
   "source": [
    "## Assignment Credit\n",
    "\n",
    "### Your assignments are 30% of the total score. The scores for each assignment are as follows.\n",
    "- __HW#1: 5%__\n",
    "- __HW#2: 7%__\n",
    "- __HW#3: 8%__\n",
    "- __HW#4(Project): 10%__"
   ]
  },
  {
   "cell_type": "markdown",
   "metadata": {},
   "source": [
    "## Python Assingment HW3 Guide\n",
    "- You need to fill out your code in ###YOUR CODE HERE### or #TODO.\n",
    "- The code results should be the same as the results displayed below the code or the format we gave in problem description.\n",
    "- When solving descriptive problems, both __Korean and English are available.__\n",
    "- The some libraries are already imported below. __But you should import more.__\n",
    "    - If you don't have some libraries, install it with pip or conda command. [Google will help you]"
   ]
  },
  {
   "cell_type": "markdown",
   "metadata": {},
   "source": [
    "## Problem1. Scikit-learn\n",
    "- Scikit-learn is the most common python library in machine learning.\n",
    "- Let's port our work from matplotlib to scikit-learn.\n",
    "- However, not all plots will be handled. We will focus on the most recent data, 2010-2015.\n",
    "\n",
    "<b>URL:</b> http://scikit-learn.org/\n",
    "<br/><b>Install guide:</b> http://scikit-learn.org/stable/install.html"
   ]
  },
  {
   "cell_type": "code",
   "execution_count": 1,
   "metadata": {
    "collapsed": true
   },
   "outputs": [],
   "source": [
    "import pandas as pd\n",
    "import numpy as np\n",
    "import matplotlib.pyplot as plt\n",
    "%matplotlib inline\n",
    "\n",
    "from sklearn.linear_model import LinearRegression\n",
    "from sklearn.metrics import mean_squared_error"
   ]
  },
  {
   "cell_type": "markdown",
   "metadata": {},
   "source": [
    "### Problem 1-1 Applying the linear regression model of scikit-learn to our data\n",
    "- Information about the various model api is available at the following url:<br/>&nbsp;&nbsp;&nbsp;&nbsp;&nbsp;&nbsp;http://scikit-learn.org/stable/modules/classes.html\n",
    "- Apply regression model for 2000-2015 data only.\n",
    "- You should use same datasets in HW#2[infant mortality rate and GDP]\n",
    "- xData : GDP per capita\n",
    "- yData : Infant morality rate \n",
    "- Please print __MSE__ of implemented model."
   ]
  },
  {
   "cell_type": "code",
   "execution_count": null,
   "metadata": {
    "collapsed": true
   },
   "outputs": [],
   "source": [
    "#load data and filtering data (2000-2015) you can use HW#2 preprocessing code\n",
    "\n",
    "###YOUR CODE HERE###"
   ]
  },
  {
   "cell_type": "code",
   "execution_count": null,
   "metadata": {
    "collapsed": true
   },
   "outputs": [],
   "source": [
    "lr = LinearRegression()\n",
    "\n",
    "xData=[]\n",
    "yData=[]\n",
    "\n",
    "#TODO\n",
    "\n",
    "lr.fit(xData, yData)\n",
    "print (\"MSE - scikit learn linear regression: \", mean_squared_error(lr.predict(xData), yData))"
   ]
  },
  {
   "cell_type": "markdown",
   "metadata": {},
   "source": [
    "### Problem 1-2 Expanded to polynomial regression\n",
    "- Let's look at the performance change by changing the degree in 0-9.\n",
    "- Normalization should also be followed.\n",
    "\n",
    "*hint: You can use an additional API to implement the polynomial regression model.*"
   ]
  },
  {
   "cell_type": "code",
   "execution_count": null,
   "metadata": {
    "collapsed": true
   },
   "outputs": [],
   "source": [
    "#TODO: import api(s) to implement the polynomial regression model\n",
    "\n",
    "for deg in range(10):\n",
    "    PolynomialRegression = #TODO\n",
    "\n",
    "    plr = PolynomialRegression.fit(xData, yData)\n",
    "    print (\"MSE - poly-linear regression; degree=\", deg,\": \", mean_squared_error(plr.predict(xData), yData))"
   ]
  },
  {
   "cell_type": "markdown",
   "metadata": {},
   "source": [
    "### Problem 1-3 The change in performance according to the degree can be confirmed. Is performance improvement reliable? Describe the problem of current method."
   ]
  },
  {
   "cell_type": "markdown",
   "metadata": {},
   "source": [
    "### YOUR ANSWER HERE ###\n",
    "\n"
   ]
  },
  {
   "cell_type": "markdown",
   "metadata": {},
   "source": []
  },
  {
   "cell_type": "markdown",
   "metadata": {},
   "source": [
    "### Problem 1-4 To solve the problem mentioned above, you must divide the train set and the test set. Try experimenting by assigning 20% of the total sample to a test set.\n",
    "- Please print MSEs of implemented model, for both of training and test set.\n",
    "- Degree is the same as the previous experiment, 0-9.\n",
    "\n",
    "*hint: Implementing it yourself can be a good experience, but using scikit-learn would make it easy to solve this problem.*"
   ]
  },
  {
   "cell_type": "code",
   "execution_count": null,
   "metadata": {
    "collapsed": true
   },
   "outputs": [],
   "source": [
    "#TODO: import API for deviding training and test set\n",
    "\n",
    "x_train, x_val, y_train, y_val = #TODO\n",
    "\n",
    "for deg in range(10):\n",
    "    PolynomialRegression = #TODO: as above (Prob. 5-2)\n",
    "\n",
    "    plr = PolynomialRegression.fit(x_train, y_train)\n",
    "    print (\"MSE - sklearn poly-linear regression; degree=\", deg,\"\\n\\ttrain: \", mean_squared_error(plr.predict(x_train), y_train), \",\\tval: \", mean_squared_error(plr.predict(x_val), y_val))"
   ]
  },
  {
   "cell_type": "markdown",
   "metadata": {},
   "source": [
    "### Problem 1-5 We currently use only one feature called GDP per capita. If you want to improve performance, you will need to add features. Present other valid features and describe why you think so. \n",
    "- You only need to collect the URL. You do not need to collect data or conduct further experiments."
   ]
  },
  {
   "cell_type": "markdown",
   "metadata": {},
   "source": [
    "### YOUR ANSWER HERE ###"
   ]
  },
  {
   "cell_type": "markdown",
   "metadata": {},
   "source": []
  },
  {
   "cell_type": "markdown",
   "metadata": {},
   "source": [
    "## Problem2. Regression Model\n",
    "## -Amzon stock price prediction."
   ]
  },
  {
   "cell_type": "markdown",
   "metadata": {},
   "source": [
    "### Problem 2-1\n",
    "- In this problem you will predict stock price only with price related data. People usually call it as Technical analysis.\n",
    "- Find best combination of parameters to predict next day price.\n",
    "- __Your MSE loss should be lower than 30.__"
   ]
  },
  {
   "cell_type": "code",
   "execution_count": 3,
   "metadata": {
    "collapsed": true
   },
   "outputs": [],
   "source": [
    "# TODO : load data 'AMZN.csv'\n",
    "raw_data ="
   ]
  },
  {
   "cell_type": "code",
   "execution_count": 4,
   "metadata": {
    "collapsed": false
   },
   "outputs": [
    {
     "data": {
      "text/html": [
       "<div>\n",
       "<style scoped>\n",
       "    .dataframe tbody tr th:only-of-type {\n",
       "        vertical-align: middle;\n",
       "    }\n",
       "\n",
       "    .dataframe tbody tr th {\n",
       "        vertical-align: top;\n",
       "    }\n",
       "\n",
       "    .dataframe thead th {\n",
       "        text-align: right;\n",
       "    }\n",
       "</style>\n",
       "<table border=\"1\" class=\"dataframe\">\n",
       "  <thead>\n",
       "    <tr style=\"text-align: right;\">\n",
       "      <th></th>\n",
       "      <th>Date</th>\n",
       "      <th>Open</th>\n",
       "      <th>High</th>\n",
       "      <th>Low</th>\n",
       "      <th>Close</th>\n",
       "      <th>Adj Close</th>\n",
       "      <th>Volume</th>\n",
       "    </tr>\n",
       "  </thead>\n",
       "  <tbody>\n",
       "    <tr>\n",
       "      <th>0</th>\n",
       "      <td>1997-05-15</td>\n",
       "      <td>2.437500</td>\n",
       "      <td>2.500000</td>\n",
       "      <td>1.927083</td>\n",
       "      <td>1.958333</td>\n",
       "      <td>1.958333</td>\n",
       "      <td>72156000</td>\n",
       "    </tr>\n",
       "    <tr>\n",
       "      <th>1</th>\n",
       "      <td>1997-05-16</td>\n",
       "      <td>1.968750</td>\n",
       "      <td>1.979167</td>\n",
       "      <td>1.708333</td>\n",
       "      <td>1.729167</td>\n",
       "      <td>1.729167</td>\n",
       "      <td>14700000</td>\n",
       "    </tr>\n",
       "    <tr>\n",
       "      <th>2</th>\n",
       "      <td>1997-05-19</td>\n",
       "      <td>1.760417</td>\n",
       "      <td>1.770833</td>\n",
       "      <td>1.625000</td>\n",
       "      <td>1.708333</td>\n",
       "      <td>1.708333</td>\n",
       "      <td>6106800</td>\n",
       "    </tr>\n",
       "    <tr>\n",
       "      <th>3</th>\n",
       "      <td>1997-05-20</td>\n",
       "      <td>1.729167</td>\n",
       "      <td>1.750000</td>\n",
       "      <td>1.635417</td>\n",
       "      <td>1.635417</td>\n",
       "      <td>1.635417</td>\n",
       "      <td>5467200</td>\n",
       "    </tr>\n",
       "    <tr>\n",
       "      <th>4</th>\n",
       "      <td>1997-05-21</td>\n",
       "      <td>1.635417</td>\n",
       "      <td>1.645833</td>\n",
       "      <td>1.375000</td>\n",
       "      <td>1.427083</td>\n",
       "      <td>1.427083</td>\n",
       "      <td>18853200</td>\n",
       "    </tr>\n",
       "  </tbody>\n",
       "</table>\n",
       "</div>"
      ],
      "text/plain": [
       "         Date      Open      High       Low     Close  Adj Close    Volume\n",
       "0  1997-05-15  2.437500  2.500000  1.927083  1.958333   1.958333  72156000\n",
       "1  1997-05-16  1.968750  1.979167  1.708333  1.729167   1.729167  14700000\n",
       "2  1997-05-19  1.760417  1.770833  1.625000  1.708333   1.708333   6106800\n",
       "3  1997-05-20  1.729167  1.750000  1.635417  1.635417   1.635417   5467200\n",
       "4  1997-05-21  1.635417  1.645833  1.375000  1.427083   1.427083  18853200"
      ]
     },
     "execution_count": 4,
     "metadata": {},
     "output_type": "execute_result"
    }
   ],
   "source": [
    "raw_data.head()"
   ]
  },
  {
   "cell_type": "markdown",
   "metadata": {},
   "source": [
    "<br/><br/>\n",
    "- We will use only __one kind of variable__ for __last 'lookback' days__ to predict next day close price.<br/>\n",
    "For example, if we set lookback days as 5, and use close price for our independent variable.<br/><br/>\n",
    "Close price of [1997-05-15, 1997-05-16, 1997-05-19, 1997-05-20, 1997-05-21] --> predict [1997-05-22] <br/><br/>"
   ]
  },
  {
   "cell_type": "code",
   "execution_count": null,
   "metadata": {
    "collapsed": true
   },
   "outputs": [],
   "source": [
    "\"\"\"\n",
    "TODO : make get_concated_data function.\n",
    "       this function create x and y data\n",
    "\n",
    "@Function\n",
    "get_concated_data\n",
    "\n",
    "@Inputs\n",
    "__\n",
    "raw_data : dataframe, full Amazon stock data.\n",
    "     \n",
    "\n",
    "@Returns\n",
    "___\n",
    "\n",
    "x_data \n",
    "    : <class 'numpy.ndarray'>\n",
    "    : crteated data should in shape of [len(raw_data)-lookback, lookback]\n",
    "    : x_data should be made based on 'col_name', parameters of the function, variable we will use\n",
    "    \n",
    "y_data \n",
    "    : <class 'numpy.ndarray'>\n",
    "    : crteated data should in shape of [len(raw_data)-lookback]\n",
    "    : y should be always made based on 'Close'.\n",
    "\"\"\""
   ]
  },
  {
   "cell_type": "code",
   "execution_count": 5,
   "metadata": {
    "collapsed": true
   },
   "outputs": [],
   "source": [
    "# We will use only one kind of variable as a time series data\n",
    "def get_concated_data(raw_data, col_name, lookback):\n",
    "    x_datas = list()\n",
    "    y_datas = list()\n",
    "    # col_name : Variable to be used\n",
    "    col_data = raw_data[col_name].values\n",
    "    # aggregate target variable data for length of lookback days\n",
    "    \n",
    "    ##### Your Code Here ####\n",
    "\n",
    "   ##########################    \n",
    "    x_data = np.concatenate(x_datas,0)\n",
    "    y_data = np.asarray(y_datas)\n",
    "\n",
    "    return x_data, y_data"
   ]
  },
  {
   "cell_type": "code",
   "execution_count": 18,
   "metadata": {
    "collapsed": true
   },
   "outputs": [],
   "source": [
    "\"\"\"\n",
    "TODO : make split_data function which split train / test (last 60 data, approximately 3 month)\n",
    "\n",
    "@Function\n",
    "split_data\n",
    "\n",
    "@Inputs\n",
    "__\n",
    "data : numpy array\n",
    "     \n",
    "@Returns\n",
    "___\n",
    "x_train, x_test, y_train, y_test\n",
    "    :<class 'numpy.ndarray'>\n",
    "\n",
    "\"\"\""
   ]
  },
  {
   "cell_type": "code",
   "execution_count": 6,
   "metadata": {
    "collapsed": true
   },
   "outputs": [],
   "source": [
    "def split_data(x,y):\n",
    "    ##### Your Code Here ####\n",
    "\n",
    "    ###########################\n",
    "    return x_train, x_test, y_train, y_test"
   ]
  },
  {
   "cell_type": "code",
   "execution_count": 7,
   "metadata": {
    "collapsed": false
   },
   "outputs": [
    {
     "data": {
      "text/plain": [
       "(array([[1.958333, 1.729167, 1.708333, 1.635417, 1.427083],\n",
       "        [1.729167, 1.708333, 1.635417, 1.427083, 1.395833],\n",
       "        [1.708333, 1.635417, 1.427083, 1.395833, 1.5     ],\n",
       "        [1.635417, 1.427083, 1.395833, 1.5     , 1.583333],\n",
       "        [1.427083, 1.395833, 1.5     , 1.583333, 1.53125 ],\n",
       "        [1.395833, 1.5     , 1.583333, 1.53125 , 1.505208],\n",
       "        [1.5     , 1.583333, 1.53125 , 1.505208, 1.5     ],\n",
       "        [1.583333, 1.53125 , 1.505208, 1.5     , 1.510417],\n",
       "        [1.53125 , 1.505208, 1.5     , 1.510417, 1.479167],\n",
       "        [1.505208, 1.5     , 1.510417, 1.479167, 1.416667]]),\n",
       " array([1.395833, 1.5     , 1.583333, 1.53125 , 1.505208, 1.5     ,\n",
       "        1.510417, 1.479167, 1.416667, 1.541667]))"
      ]
     },
     "execution_count": 7,
     "metadata": {},
     "output_type": "execute_result"
    }
   ],
   "source": [
    "x, y = get_concated_data(raw_data, 'Close', 5)\n",
    "x[:10], y[:10]"
   ]
  },
  {
   "cell_type": "code",
   "execution_count": 8,
   "metadata": {
    "collapsed": false
   },
   "outputs": [
    {
     "data": {
      "text/plain": [
       "((4181, 5), (4181,), (1046, 5), (1046,))"
      ]
     },
     "execution_count": 8,
     "metadata": {},
     "output_type": "execute_result"
    }
   ],
   "source": [
    "x_train, x_test, y_train, y_test = split_data(x, y)\n",
    "x_train.shape, y_train.shape, x_test.shape, y_test.shape"
   ]
  },
  {
   "cell_type": "markdown",
   "metadata": {},
   "source": [
    "### <br/>Problem 2-2 Find best parameter combination \n",
    "- You can choose which __columns to use__ as variable for __how many days__, and in which __polynomial space.__\n",
    "- Find the best combination of parameters to predict next day price.\n",
    "- __Find combination which makes MSE loss for train data lower than 6.__"
   ]
  },
  {
   "cell_type": "code",
   "execution_count": null,
   "metadata": {
    "collapsed": true
   },
   "outputs": [],
   "source": [
    "# TODO : complete run_regression function\n",
    "# Hint : use api i gave below"
   ]
  },
  {
   "cell_type": "code",
   "execution_count": 9,
   "metadata": {
    "collapsed": true
   },
   "outputs": [],
   "source": [
    "from sklearn.preprocessing import PolynomialFeatures\n",
    "from sklearn import linear_model\n",
    "\n",
    "def run_regression(raw_data, column_name, lookback_days, poly_degree):\n",
    "    # performing regression analysis with specified parameters\n",
    "    x, y = get_concated_data(raw_data, column_name, lookback_days)\n",
    "    x_train, x_test, y_train, y_test = split_data(x, y)\n",
    "\n",
    "    ##### Your Code Here ####\n",
    "\n",
    "    ########################\n",
    "    print (\"MSE - Train %.4f\"%mean_squared_error(model.predict(X_train), y_train))\n",
    "    print (\"MSE - Test %.4f\"%mean_squared_error(model.predict(X_test), y_test))\n",
    "    \n",
    "    return test_pred, y_test"
   ]
  },
  {
   "cell_type": "code",
   "execution_count": null,
   "metadata": {
    "collapsed": true
   },
   "outputs": [],
   "source": [
    "# TODO : run experiment with various combination\n",
    "test_pred, y_test = run_regression(raw_data, column_name=, lookback_days=, poly_degree=)"
   ]
  },
  {
   "cell_type": "markdown",
   "metadata": {},
   "source": [
    "Write Combination that you've found. (Train loss lower than 6) <br/><br/>\n",
    "Variable :       <br/>\n",
    "Lookback :       <br/>\n",
    "Poly_degree :       <br/>"
   ]
  },
  {
   "cell_type": "markdown",
   "metadata": {},
   "source": [
    "### Problem 2-3 Overfitting & Underfitting\n",
    "1. Briefly explain about the concept of overfitting and underftting with proper example that you can find from experiment above.\n",
    "2. In the above problem desciption, I set your goal as fiding best parameters for total data loss. What is wrong with it? "
   ]
  },
  {
   "cell_type": "markdown",
   "metadata": {},
   "source": [
    "### YOUR ANSWER HERE ###"
   ]
  },
  {
   "cell_type": "markdown",
   "metadata": {},
   "source": []
  },
  {
   "cell_type": "markdown",
   "metadata": {},
   "source": [
    "### Problem 2-4 Visualization\n",
    "- Visualize your predicton.\n",
    "- You can use code below with proper variable.\n",
    "- __Your best model's prediction --> best_pred.__"
   ]
  },
  {
   "cell_type": "code",
   "execution_count": 11,
   "metadata": {
    "collapsed": true
   },
   "outputs": [],
   "source": [
    "# TODO : Assign your best prediction for test data to best_pred\n",
    "\n",
    "best_pred = "
   ]
  },
  {
   "cell_type": "code",
   "execution_count": 12,
   "metadata": {
    "collapsed": false
   },
   "outputs": [
    {
     "data": {
      "image/png": "[encoded data removed]",
      "text/plain": [
       "<matplotlib.figure.Figure at 0x7f8158270f28>"
      ]
     },
     "metadata": {},
     "output_type": "display_data"
    }
   ],
   "source": [
    "from matplotlib import pyplot as plt\n",
    "\n",
    "plt.figure(figsize=(20,10))\n",
    "plt.plot(best_pred, label='prediction')\n",
    "plt.plot(y_test, label='target')\n",
    "plt.legend(loc='best', fontsize=20)\n",
    "plt.show()"
   ]
  },
  {
   "cell_type": "markdown",
   "metadata": {},
   "source": [
    "## Problem3. Classification Model : Sentiment Analysis (NLP)\n",
    "- Use amazon_cells_labelled.tsv data to solve your problem3"
   ]
  },
  {
   "cell_type": "code",
   "execution_count": null,
   "metadata": {
    "collapsed": true
   },
   "outputs": [],
   "source": [
    "import pandas as pd\n",
    "import numpy as np\n",
    "import matplotlib.pyplot as plt\n",
    "%matplotlib inline"
   ]
  },
  {
   "cell_type": "markdown",
   "metadata": {},
   "source": [
    "### Problem 3-1 Load Data\n",
    "- Load amazon_cells_labelled.tsv and make pandas dataframe."
   ]
  },
  {
   "cell_type": "code",
   "execution_count": null,
   "metadata": {
    "collapsed": true
   },
   "outputs": [],
   "source": [
    "amazon_review = #TODO"
   ]
  },
  {
   "cell_type": "markdown",
   "metadata": {},
   "source": [
    "### Problem 3-2 BOW (Bag Of Word)\n",
    "- Finish your make_review_bow function.\n",
    "- Make BOW using make_review_bow function.\n",
    "- Make BOW_df using BOW you made.\n",
    "    \n",
    "*hint: Refer to Tutorial code below*"
   ]
  },
  {
   "cell_type": "code",
   "execution_count": 2,
   "metadata": {
    "collapsed": true
   },
   "outputs": [],
   "source": [
    "from sklearn.feature_extraction.text import CountVectorizer"
   ]
  },
  {
   "cell_type": "code",
   "execution_count": 5,
   "metadata": {
    "collapsed": false
   },
   "outputs": [
    {
     "name": "stdout",
     "output_type": "stream",
     "text": [
      "# Original text is \n",
      " This is the first sentence.\n",
      "Creating BOW step by step.\n",
      "This is the last sentence.\n",
      "# Word Vector\n",
      "   (0, 3)\t1\n",
      "  (0, 4)\t1\n",
      "  (0, 6)\t1\n",
      "  (0, 8)\t1\n",
      "  (0, 9)\t1\n",
      "  (1, 0)\t1\n",
      "  (1, 1)\t1\n",
      "  (1, 2)\t1\n",
      "  (1, 7)\t2\n",
      "  (2, 4)\t1\n",
      "  (2, 5)\t1\n",
      "  (2, 6)\t1\n",
      "  (2, 8)\t1\n",
      "  (2, 9)\t1\n"
     ]
    },
    {
     "data": {
      "text/html": [
       "<div>\n",
       "<table border=\"1\" class=\"dataframe\">\n",
       "  <thead>\n",
       "    <tr style=\"text-align: right;\">\n",
       "      <th></th>\n",
       "      <th>bow</th>\n",
       "      <th>by</th>\n",
       "      <th>creating</th>\n",
       "      <th>first</th>\n",
       "      <th>is</th>\n",
       "      <th>last</th>\n",
       "      <th>sentence</th>\n",
       "      <th>step</th>\n",
       "      <th>the</th>\n",
       "      <th>this</th>\n",
       "    </tr>\n",
       "  </thead>\n",
       "  <tbody>\n",
       "    <tr>\n",
       "      <th>0</th>\n",
       "      <td>0</td>\n",
       "      <td>0</td>\n",
       "      <td>0</td>\n",
       "      <td>1</td>\n",
       "      <td>1</td>\n",
       "      <td>0</td>\n",
       "      <td>1</td>\n",
       "      <td>0</td>\n",
       "      <td>1</td>\n",
       "      <td>1</td>\n",
       "    </tr>\n",
       "    <tr>\n",
       "      <th>1</th>\n",
       "      <td>1</td>\n",
       "      <td>1</td>\n",
       "      <td>1</td>\n",
       "      <td>0</td>\n",
       "      <td>0</td>\n",
       "      <td>0</td>\n",
       "      <td>0</td>\n",
       "      <td>2</td>\n",
       "      <td>0</td>\n",
       "      <td>0</td>\n",
       "    </tr>\n",
       "    <tr>\n",
       "      <th>2</th>\n",
       "      <td>0</td>\n",
       "      <td>0</td>\n",
       "      <td>0</td>\n",
       "      <td>0</td>\n",
       "      <td>1</td>\n",
       "      <td>1</td>\n",
       "      <td>1</td>\n",
       "      <td>0</td>\n",
       "      <td>1</td>\n",
       "      <td>1</td>\n",
       "    </tr>\n",
       "  </tbody>\n",
       "</table>\n",
       "</div>"
      ],
      "text/plain": [
       "   bow  by  creating  first  is  last  sentence  step  the  this\n",
       "0    0   0         0      1   1     0         1     0    1     1\n",
       "1    1   1         1      0   0     0         0     2    0     0\n",
       "2    0   0         0      0   1     1         1     0    1     1"
      ]
     },
     "execution_count": 5,
     "metadata": {},
     "output_type": "execute_result"
    }
   ],
   "source": [
    "#BOW Tutorial\n",
    "\n",
    "example_doc = [\n",
    "    'This is the first sentence.',\n",
    "    'Creating BOW step by step.',\n",
    "    'This is the last sentence.'\n",
    "]\n",
    "\n",
    "print ('# Original text is \\n', '\\n'.join(example_doc))\n",
    "\n",
    "vectorizer = CountVectorizer(min_df=0)\n",
    "\n",
    "vectorizer.fit(example_doc)\n",
    "x = vectorizer.transform(example_doc)\n",
    "print ('# Word Vector\\n', x)\n",
    "\n",
    "bow = x.toarray()\n",
    "\n",
    "bow_df = pd.DataFrame(bow, columns=vectorizer.get_feature_names())\n",
    "bow_df"
   ]
  },
  {
   "cell_type": "code",
   "execution_count": null,
   "metadata": {
    "collapsed": true
   },
   "outputs": [],
   "source": [
    "\"\"\"\n",
    "@Function\n",
    "make_review_bow\n",
    "\n",
    "@Inputs\n",
    "__\n",
    "data : data frame\n",
    "    Amajon review data frame\n",
    "\n",
    "@Returns\n",
    "___\n",
    "vectorizer \n",
    "    :<class 'sklearn.feature_extraction.text.CountVectorizer'> \n",
    "    \n",
    "bow \n",
    "    : <class 'scipy.sparse.csr.csr_matrix'>\n",
    "\"\"\"\n",
    "\n",
    "def make_review_bow(data):    \n",
    "    vectorizer = CountVectorizer(min_df=0)\n",
    "    \n",
    "    ###YOUR CODE HERE###\n",
    "\n",
    "    return vectorizer, bow"
   ]
  },
  {
   "cell_type": "code",
   "execution_count": null,
   "metadata": {
    "collapsed": true
   },
   "outputs": [],
   "source": [
    "vectorizer, bow = make_review_bow(amazon_review)\n",
    "bow_df = #TODO\n",
    "bow_df"
   ]
  },
  {
   "cell_type": "markdown",
   "metadata": {},
   "source": [
    "### Problem 3-3 Split Data : Train / Test\n",
    "- Split your data (1000 reviews) __Train: 800 / Test: 200__ randomly. \n",
    "    - X: bow_df of Review / Y: Sentiment[(int type) 1:pos, 0:neg] \n",
    "    - __Make sure your X data match to Y data in random shuffling.__\n",
    "\n",
    "*hint: Implementing it yourself can be a good experience, but using scikit-learn would make it easy to solve this problem.*"
   ]
  },
  {
   "cell_type": "code",
   "execution_count": null,
   "metadata": {
    "collapsed": true
   },
   "outputs": [],
   "source": [
    "###YOUR CODE HERE###"
   ]
  },
  {
   "cell_type": "markdown",
   "metadata": {},
   "source": [
    "### Problem 3-4 Model by SGDClassifier\n",
    "- Use SGDClassifer to make you classficiation model.\n",
    "- Train your model using train data and report test score using test data.\n",
    "\n",
    "*hint: Refer to http://scikit-learn.org/stable/modules/generated/sklearn.linear_model.SGDClassifier.html*"
   ]
  },
  {
   "cell_type": "code",
   "execution_count": null,
   "metadata": {
    "collapsed": true
   },
   "outputs": [],
   "source": [
    "from sklearn.linear_model import SGDClassifier"
   ]
  },
  {
   "cell_type": "code",
   "execution_count": null,
   "metadata": {
    "collapsed": true
   },
   "outputs": [],
   "source": [
    "###YOUR CODE HERE###"
   ]
  },
  {
   "cell_type": "code",
   "execution_count": null,
   "metadata": {
    "collapsed": true
   },
   "outputs": [],
   "source": [
    "sgdScore = #TODO\n",
    "print (\"Model Accuracy: %f\" % sgdScore)"
   ]
  },
  {
   "cell_type": "markdown",
   "metadata": {},
   "source": [
    "### Problem 3-5 Model by Multinomial Naive Bayes\n",
    "- Use MultinomialNB to make you classficiation model.\n",
    "- Train your model using train data and report test score using test data.\n",
    "\n",
    "*hint: Refer to http://scikit-learn.org/stable/modules/generated/sklearn.naive_bayes.MultinomialNB.html *"
   ]
  },
  {
   "cell_type": "code",
   "execution_count": null,
   "metadata": {
    "collapsed": true
   },
   "outputs": [],
   "source": [
    "from sklearn.naive_bayes import MultinomialNB"
   ]
  },
  {
   "cell_type": "code",
   "execution_count": null,
   "metadata": {
    "collapsed": true
   },
   "outputs": [],
   "source": [
    "###YOUR CODE HERE###"
   ]
  },
  {
   "cell_type": "code",
   "execution_count": null,
   "metadata": {
    "collapsed": true
   },
   "outputs": [],
   "source": [
    "nbScore = #TODO\n",
    "print (\"Model Accuracy: %f\" % nbScore)"
   ]
  },
  {
   "cell_type": "markdown",
   "metadata": {},
   "source": [
    "### Problem 3-6 Select the Best Model with 5 fold Cross Validation\n",
    "- Split your data (1000 reviews) __Train: 600 / Validation: 200 / Test: 200__ randomly. \n",
    "    - X: bow_df of Review / Y: Sentiment[(int type) 1:pos, 0:neg] \n",
    "    - __Make sure your X data match to Y data in random shuffling.__\n",
    "- Choose model you want to use(SGD or NB or both) and give us reason why you choose it.\n",
    "- Train your model with different parameters using train data and check your model performance by cross validataion score.\n",
    "- Choose your best model using cross validataion sets and report your test score."
   ]
  },
  {
   "cell_type": "code",
   "execution_count": null,
   "metadata": {
    "collapsed": true
   },
   "outputs": [],
   "source": [
    "#Split Data\n",
    "###YOUR CODE HERE###"
   ]
  },
  {
   "cell_type": "markdown",
   "metadata": {},
   "source": [
    "### YOUR ANSWER HERE [reason why you choose that model] ###\n"
   ]
  },
  {
   "cell_type": "markdown",
   "metadata": {},
   "source": []
  },
  {
   "cell_type": "code",
   "execution_count": null,
   "metadata": {
    "collapsed": true
   },
   "outputs": [],
   "source": [
    "###YOUR CODE HERE###"
   ]
  },
  {
   "cell_type": "code",
   "execution_count": null,
   "metadata": {
    "collapsed": true
   },
   "outputs": [],
   "source": [
    "###YOUR CODE HERE###"
   ]
  },
  {
   "cell_type": "code",
   "execution_count": null,
   "metadata": {
    "collapsed": true
   },
   "outputs": [],
   "source": [
    "score = #TODO\n",
    "print (\"Model Accuracy: %f\" % score)"
   ]
  },
  {
   "cell_type": "markdown",
   "metadata": {},
   "source": [
    "## Problem4. Clustering Model\n",
    "- In this problem, you will cluster news article documents after converting them to TF-IDF vectors.\n",
    "- All results may be different from the example results depending on your choice."
   ]
  },
  {
   "cell_type": "code",
   "execution_count": 1,
   "metadata": {
    "collapsed": true
   },
   "outputs": [],
   "source": [
    "import pandas as pd\n",
    "import numpy as np\n",
    "from sklearn.datasets import fetch_20newsgroups\n",
    "from sklearn.feature_extraction.text import TfidfVectorizer\n",
    "from sklearn.cluster import KMeans\n",
    "from sklearn.metrics.pairwise import cosine_similarity\n",
    "import matplotlib.pyplot as plt\n",
    "from sklearn.manifold import MDS"
   ]
  },
  {
   "cell_type": "markdown",
   "metadata": {},
   "source": [
    "### Problem 4-1 Pick 3 Categories you want and download"
   ]
  },
  {
   "cell_type": "code",
   "execution_count": 2,
   "metadata": {
    "collapsed": true
   },
   "outputs": [],
   "source": [
    "\"\"\"\n",
    "\n",
    "['alt.atheism',\n",
    " 'comp.graphics',\n",
    " 'comp.os.ms-windows.misc',\n",
    " 'comp.sys.ibm.pc.hardware',\n",
    " 'comp.sys.mac.hardware',\n",
    " 'comp.windows.x',\n",
    " 'misc.forsale',\n",
    " 'rec.autos',\n",
    " 'rec.motorcycles',\n",
    " 'rec.sport.baseball',\n",
    " 'rec.sport.hockey',\n",
    " 'sci.crypt',\n",
    " 'sci.electronics',\n",
    " 'sci.med',\n",
    " 'sci.space',\n",
    " 'soc.religion.christian',\n",
    " 'talk.politics.guns',\n",
    " 'talk.politics.mideast',\n",
    " 'talk.politics.misc',\n",
    " 'talk.religion.misc']\n",
    " \n",
    "\"\"\"\n",
    "categories = [#TODO\n",
    "                    ]"
   ]
  },
  {
   "cell_type": "code",
   "execution_count": 3,
   "metadata": {
    "collapsed": false
   },
   "outputs": [
    {
     "name": "stdout",
     "output_type": "stream",
     "text": [
      "the 20 newsgroups by date dataset\n",
      "1180 documents\n",
      "3 categories\n"
     ]
    }
   ],
   "source": [
    "dataset = fetch_20newsgroups(subset='test', categories=categories,\n",
    "                             shuffle=True, random_state=45)\n",
    "print(\"%s\" % dataset.description)\n",
    "print(\"%d documents\" % len(dataset.data))\n",
    "print(\"%d categories\" % len(dataset.target_names))"
   ]
  },
  {
   "cell_type": "markdown",
   "metadata": {},
   "source": [
    "### Problem 4-2 Convert the documents to a tf-idf matrix \n",
    "- refer to http://mlwiki.org/index.php/TF-IDF\n",
    "- You can use sklearn.\n",
    "- Set your own hyperparams."
   ]
  },
  {
   "cell_type": "code",
   "execution_count": 4,
   "metadata": {
    "collapsed": false
   },
   "outputs": [
    {
     "data": {
      "text/plain": [
       "<1180x10000 sparse matrix of type '<class 'numpy.float64'>'\n",
       "\twith 109470 stored elements in Compressed Sparse Row format>"
      ]
     },
     "execution_count": 4,
     "metadata": {},
     "output_type": "execute_result"
    }
   ],
   "source": [
    "tfidf_vectorizer = #TODO\n",
    "tfidf_matrix = #TODO\n",
    "tfidf_matrix"
   ]
  },
  {
   "cell_type": "markdown",
   "metadata": {},
   "source": [
    "### Problem 4-3 Cluster the documents using K-means\n",
    "- You can use sklearn\n",
    "- Set your own hyperparams"
   ]
  },
  {
   "cell_type": "code",
   "execution_count": 6,
   "metadata": {
    "collapsed": false
   },
   "outputs": [
    {
     "name": "stdout",
     "output_type": "stream",
     "text": [
      "[0, 1, 2, 2, 0, 2, 0, 0, 2, 2]\n"
     ]
    }
   ],
   "source": [
    "num_clusters = 3\n",
    "km = #TODO\n",
    "#TODO\n",
    "clusters = km.labels_.tolist()\n",
    "print(clusters[:10])"
   ]
  },
  {
   "cell_type": "markdown",
   "metadata": {},
   "source": [
    "### Problem 4-4 Visualize document clusters\n",
    "- You can use sklearn\n",
    "- It may take a long time to compile"
   ]
  },
  {
   "cell_type": "code",
   "execution_count": 7,
   "metadata": {
    "collapsed": true
   },
   "outputs": [],
   "source": [
    "#USE THIS -DO NOT CHANGE-\n",
    "dist = 1 - cosine_similarity(tfidf_matrix)\n",
    "MDS()\n",
    "mds = MDS(n_components=2, dissimilarity=\"precomputed\", random_state=1)\n",
    "pos = mds.fit_transform(dist)\n",
    "xs, ys = pos[:, 0], pos[:, 1]\n",
    "\n",
    "cluster_colors = {0: '#1b9e77', 1: '#d95f02', 2: '#7570b3'}\n",
    "cluster_names = categories"
   ]
  },
  {
   "cell_type": "code",
   "execution_count": 8,
   "metadata": {
    "collapsed": false
   },
   "outputs": [
    {
     "data": {
      "image/png": "[encoded data removed]",
      "text/plain": [
       "<matplotlib.figure.Figure at 0x7fcbab29b470>"
      ]
     },
     "metadata": {},
     "output_type": "display_data"
    }
   ],
   "source": [
    "def visualize_clusters(xs, ys, clusters, cluster_names, cluster_colors):\n",
    "    %matplotlib inline \n",
    "    df = pd.DataFrame(dict(x=xs, y=ys, label=clusters)) \n",
    "    groups = ##TODO\n",
    "    fig, ax = plt.subplots(figsize=(17, 9))\n",
    "    ax.margins(0.05) \n",
    "    for name, group in groups:\n",
    "        ax.plot(group.x, group.y, marker='o', linestyle='', ms=12, \n",
    "                label= #TODO, \n",
    "                color= #TODO, \n",
    "                mec='none')\n",
    "        ax.set_aspect('auto')\n",
    "        ax.tick_params(\\\n",
    "            axis= 'x',          \n",
    "            which='both',      \n",
    "            bottom='off',      \n",
    "            top='off',         \n",
    "            labelbottom='off')\n",
    "        ax.tick_params(\\\n",
    "            axis= 'y',         \n",
    "            which='both',     \n",
    "            left='off',     \n",
    "            top='off',      \n",
    "            labelleft='off')\n",
    "    ax.legend(numpoints=1) \n",
    "    plt.show() \n",
    "\n",
    "visualize_clusters(xs, ys, clusters, cluster_names, cluster_colors)"
   ]
  }
 ],
 "metadata": {
  "anaconda-cloud": {},
  "kernelspec": {
   "display_name": "Python [Root]",
   "language": "python",
   "name": "Python [Root]"
  },
  "language_info": {
   "codemirror_mode": {
    "name": "ipython",
    "version": 3
   },
   "file_extension": ".py",
   "mimetype": "text/x-python",
   "name": "python",
   "nbconvert_exporter": "python",
   "pygments_lexer": "ipython3",
   "version": "3.5.2"
  }
 },
 "nbformat": 4,
 "nbformat_minor": 1
}
